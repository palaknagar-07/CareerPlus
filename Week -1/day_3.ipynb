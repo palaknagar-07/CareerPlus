{
 "cells": [
  {
   "cell_type": "code",
   "execution_count": 1,
   "id": "0b71ee61-089d-4c30-8395-930334b2ea8d",
   "metadata": {
    "collapsed": true,
    "jupyter": {
     "outputs_hidden": true
    },
    "scrolled": true
   },
   "outputs": [
    {
     "name": "stdout",
     "output_type": "stream",
     "text": [
      "                                      company  \\\n",
      "0                            MM Media Pvt Ltd   \n",
      "1                          find live infotech   \n",
      "2         Softtech Career Infosystem Pvt. Ltd   \n",
      "3                      Onboard HRServices LLP   \n",
      "4  Spire Technologies and Solutions Pvt. Ltd.   \n",
      "\n",
      "                                           education   experience  \\\n",
      "0  UG: B.Tech/B.E. - Any Specialization PG:Any Po...    0 - 1 yrs   \n",
      "1  UG: B.Tech/B.E. - Any Specialization PG:MBA/PG...    0 - 0 yrs   \n",
      "2  UG: Any Graduate - Any Specialization PG:Any P...    4 - 8 yrs   \n",
      "3  UG: Any Graduate - Any Specialization PG:CA Do...  11 - 15 yrs   \n",
      "4  UG: B.Tech/B.E. - Any Specialization PG:Any Po...    6 - 8 yrs   \n",
      "\n",
      "                                   industry  \\\n",
      "0          Media / Entertainment / Internet   \n",
      "1  Advertising / PR / MR / Event Management   \n",
      "2           IT-Software / Software Services   \n",
      "3    Banking / Financial Services / Broking   \n",
      "4           IT-Software / Software Services   \n",
      "\n",
      "                                      jobdescription         jobid  \\\n",
      "0  Job Description   Send me Jobs like this Quali...  210516002263   \n",
      "1  Job Description   Send me Jobs like this Quali...  210516002391   \n",
      "2  Job Description   Send me Jobs like this - as ...  101016900534   \n",
      "3  Job Description   Send me Jobs like this - Inv...   81016900536   \n",
      "4  Job Description   Send me Jobs like this Pleas...  120916002122   \n",
      "\n",
      "                                 joblocation_address  \\\n",
      "0                                            Chennai   \n",
      "1                                            Chennai   \n",
      "2                                          Bengaluru   \n",
      "3  Mumbai, Bengaluru, Kolkata, Chennai, Coimbator...   \n",
      "4                                          Bengaluru   \n",
      "\n",
      "                                   jobtitle  numberofpositions  \\\n",
      "0  Walkin Data Entry Operator (night Shift)                NaN   \n",
      "1        Work Based Onhome Based Part Time.               60.0   \n",
      "2                    Pl/sql Developer - SQL                NaN   \n",
      "3    Manager/ad/partner - Indirect Tax - CA                NaN   \n",
      "4           JAVA Technical Lead (6-8 yrs) -                4.0   \n",
      "\n",
      "                          payrate                   postdate site_name  \\\n",
      "0         1,50,000 - 2,25,000 P.A  2016-05-21 19:30:00 +0000       NaN   \n",
      "1  1,50,000 - 2,50,000 P.A. 20000  2016-05-21 19:30:00 +0000       NaN   \n",
      "2      Not Disclosed by Recruiter  2016-10-13 16:20:55 +0000       NaN   \n",
      "3      Not Disclosed by Recruiter  2016-10-13 16:20:55 +0000       NaN   \n",
      "4      Not Disclosed by Recruiter  2016-10-13 16:20:55 +0000       NaN   \n",
      "\n",
      "                                  skills                           uniq_id  \n",
      "0                                   ITES  43b19632647068535437c774b6ca6cf8  \n",
      "1                              Marketing  d4c72325e57f89f364812b5ed5a795f0  \n",
      "2  IT Software - Application Programming  c47df6f4cfdf5b46f1fd713ba61b9eba  \n",
      "3                               Accounts  115d28f140f694dd1cc61c53d03c66ae  \n",
      "4  IT Software - Application Programming  a12553fc03bc7bcced8b1bb8963f97b4  \n",
      "<class 'pandas.core.frame.DataFrame'>\n",
      "RangeIndex: 22000 entries, 0 to 21999\n",
      "Data columns (total 14 columns):\n",
      " #   Column               Non-Null Count  Dtype  \n",
      "---  ------               --------------  -----  \n",
      " 0   company              21996 non-null  object \n",
      " 1   education            20004 non-null  object \n",
      " 2   experience           21996 non-null  object \n",
      " 3   industry             21995 non-null  object \n",
      " 4   jobdescription       21996 non-null  object \n",
      " 5   jobid                22000 non-null  int64  \n",
      " 6   joblocation_address  21499 non-null  object \n",
      " 7   jobtitle             22000 non-null  object \n",
      " 8   numberofpositions    4464 non-null   float64\n",
      " 9   payrate              21903 non-null  object \n",
      " 10  postdate             21977 non-null  object \n",
      " 11  site_name            3987 non-null   object \n",
      " 12  skills               21472 non-null  object \n",
      " 13  uniq_id              22000 non-null  object \n",
      "dtypes: float64(1), int64(1), object(12)\n",
      "memory usage: 2.3+ MB\n",
      "None\n"
     ]
    }
   ],
   "source": [
    "import pandas as pd\n",
    "import numpy as np\n",
    "import matplotlib.pyplot as plt\n",
    "path = \"day2_.csv\"\n",
    "df = pd.read_csv(path)\n",
    "# print(df.head())\n",
    "# print(df.info())"
   ]
  },
  {
   "cell_type": "code",
   "execution_count": 4,
   "id": "dd2ad0b3-7720-4702-b07c-8d98724788f7",
   "metadata": {
    "collapsed": true,
    "jupyter": {
     "outputs_hidden": true,
     "source_hidden": true
    }
   },
   "outputs": [
    {
     "name": "stdout",
     "output_type": "stream",
     "text": [
      "All 'Data scientist' variations: \n",
      " ['lead data scientist' 'data scientist / bangalore'\n",
      " 'data scientist/vba programming/r programming/fmcg-cpg/bangalore'\n",
      " 'data scientist - machine learning'\n",
      " 'data scientist partners for start-up' 'data scientist'\n",
      " 'director - data scientist - nlp/r/sas' 'senior data scientist'\n",
      " 'data scientist-machine learning' 'big data scientist'\n",
      " 'data scientist big data ml' 'excellent opportunity for data scientist'\n",
      " 'nlp data scientist' 'data scientist (machine learning)'\n",
      " 'principal data scientist' 'data scientist machine learning'\n",
      " 'data scientist - bangalore' 'data scientist - telecom domain'\n",
      " 'senior data scientist / algorithms specialist'\n",
      " 'data scientist senior data scientist' 'senior engineer data scientist'\n",
      " 'chief data scientist' 'data scientist/algorithm model developer'\n",
      " 'data scientist - machine learning/nlp'\n",
      " 'data scientist - data modelling - forecasting'\n",
      " 'principle statistician / data scientist' 'data scientist (big data)'\n",
      " 'principle statistician / data scientist - advanced analytics'\n",
      " 'lead - data scientist - r / python/ scala- iit / iiit / nit, iisc'\n",
      " 'data scientist (bangalore)' 'developer engineer and data scientist']\n"
     ]
    }
   ],
   "source": [
    "df.rename(columns = {'joblocation_address': 'location',\n",
    "                    'jobtitle': 'job_title',\n",
    "                    'jobdescription': 'description',\n",
    "                    'numberofpositions': 'num_positions',\n",
    "                    'payrate': 'salary',\n",
    "                    'postdate': 'date_posted',\n",
    "                    'site_name': 'source',\n",
    "                    'uniq_id': 'id'}, inplace=True)\n",
    "df[\"job_title_cleaned\"] = df[\"job_title\"].str.lower()\n",
    "df[\"job_title_Cleaned\"] = df[\"job_title_cleaned\"].str.replace(r'[^a-z0-9\\s]', '', regex=True)\n",
    "df[\"job_title_cleaned\"] = df[\"job_title_cleaned\"].str.strip()\n",
    "ds_titles_mask  = df[\"job_title_cleaned\"].str.contains(\"data scientist\", na=False)\n",
    "ds_varitaions = df.loc[ds_titles_mask, \"job_title_cleaned\"].unique()\n",
    "print(\"All 'Data scientist' variations: \\n\", ds_varitaions)\n",
    "ds_mapping = {title: \"data scientist\" for title in ds_varitaions}\n",
    "df['job_title_cleaned'] = df['job_title_cleaned'].replace(ds_mapping)"
   ]
  },
  {
   "cell_type": "code",
   "execution_count": null,
   "id": "56c9fdb6-141a-4609-9a02-78fb6dd10362",
   "metadata": {},
   "outputs": [],
   "source": []
  }
 ],
 "metadata": {
  "kernelspec": {
   "display_name": "Python 3 (ipykernel)",
   "language": "python",
   "name": "python3"
  },
  "language_info": {
   "codemirror_mode": {
    "name": "ipython",
    "version": 3
   },
   "file_extension": ".py",
   "mimetype": "text/x-python",
   "name": "python",
   "nbconvert_exporter": "python",
   "pygments_lexer": "ipython3",
   "version": "3.12.11"
  }
 },
 "nbformat": 4,
 "nbformat_minor": 5
}
