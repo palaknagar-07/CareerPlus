{
 "cells": [
  {
   "cell_type": "code",
   "execution_count": 1,
   "id": "0b71ee61-089d-4c30-8395-930334b2ea8d",
   "metadata": {
    "scrolled": true
   },
   "outputs": [
    {
     "name": "stdout",
     "output_type": "stream",
     "text": [
      "                                      company  \\\n",
      "0                            MM Media Pvt Ltd   \n",
      "1                          find live infotech   \n",
      "2         Softtech Career Infosystem Pvt. Ltd   \n",
      "3                      Onboard HRServices LLP   \n",
      "4  Spire Technologies and Solutions Pvt. Ltd.   \n",
      "\n",
      "                                           education   experience  \\\n",
      "0  UG: B.Tech/B.E. - Any Specialization PG:Any Po...    0 - 1 yrs   \n",
      "1  UG: B.Tech/B.E. - Any Specialization PG:MBA/PG...    0 - 0 yrs   \n",
      "2  UG: Any Graduate - Any Specialization PG:Any P...    4 - 8 yrs   \n",
      "3  UG: Any Graduate - Any Specialization PG:CA Do...  11 - 15 yrs   \n",
      "4  UG: B.Tech/B.E. - Any Specialization PG:Any Po...    6 - 8 yrs   \n",
      "\n",
      "                                   industry  \\\n",
      "0          Media / Entertainment / Internet   \n",
      "1  Advertising / PR / MR / Event Management   \n",
      "2           IT-Software / Software Services   \n",
      "3    Banking / Financial Services / Broking   \n",
      "4           IT-Software / Software Services   \n",
      "\n",
      "                                         description         jobid  \\\n",
      "0  Job Description   Send me Jobs like this Quali...  210516002263   \n",
      "1  Job Description   Send me Jobs like this Quali...  210516002391   \n",
      "2  Job Description   Send me Jobs like this - as ...  101016900534   \n",
      "3  Job Description   Send me Jobs like this - Inv...   81016900536   \n",
      "4  Job Description   Send me Jobs like this Pleas...  120916002122   \n",
      "\n",
      "                                            location  \\\n",
      "0                                            Chennai   \n",
      "1                                            Chennai   \n",
      "2                                          Bengaluru   \n",
      "3  Mumbai, Bengaluru, Kolkata, Chennai, Coimbator...   \n",
      "4                                          Bengaluru   \n",
      "\n",
      "                                  job_title  num_positions  \\\n",
      "0  Walkin Data Entry Operator (night Shift)            NaN   \n",
      "1        Work Based Onhome Based Part Time.           60.0   \n",
      "2                    Pl/sql Developer - SQL            NaN   \n",
      "3    Manager/ad/partner - Indirect Tax - CA            NaN   \n",
      "4           JAVA Technical Lead (6-8 yrs) -            4.0   \n",
      "\n",
      "                           salary                date_posted source  \\\n",
      "0         1,50,000 - 2,25,000 P.A  2016-05-21 19:30:00 +0000    NaN   \n",
      "1  1,50,000 - 2,50,000 P.A. 20000  2016-05-21 19:30:00 +0000    NaN   \n",
      "2      Not Disclosed by Recruiter  2016-10-13 16:20:55 +0000    NaN   \n",
      "3      Not Disclosed by Recruiter  2016-10-13 16:20:55 +0000    NaN   \n",
      "4      Not Disclosed by Recruiter  2016-10-13 16:20:55 +0000    NaN   \n",
      "\n",
      "                                  skills                                id  \\\n",
      "0                                   ITES  43b19632647068535437c774b6ca6cf8   \n",
      "1                              Marketing  d4c72325e57f89f364812b5ed5a795f0   \n",
      "2  IT Software - Application Programming  c47df6f4cfdf5b46f1fd713ba61b9eba   \n",
      "3                               Accounts  115d28f140f694dd1cc61c53d03c66ae   \n",
      "4  IT Software - Application Programming  a12553fc03bc7bcced8b1bb8963f97b4   \n",
      "\n",
      "   salary_cleaned                       job_title_cleaned  \n",
      "0        187500.0  Walkin Data Entry Operator Night Shift  \n",
      "1        200000.0       Work Based Onhome Based Part Time  \n",
      "2             NaN                       Software Engineer  \n",
      "3             NaN        Manageradpartner Indirect Tax Ca  \n",
      "4             NaN                          Java Developer  \n"
     ]
    }
   ],
   "source": [
    "import pandas as pd\n",
    "import numpy as np\n",
    "import matplotlib.pyplot as plt\n",
    "path = \"day2_cleaned.csv\"\n",
    "df = pd.read_csv(path)\n",
    "print(df.head())\n",
    "# print(df.info())"
   ]
  },
  {
   "cell_type": "markdown",
   "id": "a6ae1d05-fd2c-412c-8702-5e55c5cf8694",
   "metadata": {},
   "source": [
    "# Location normalization"
   ]
  },
  {
   "cell_type": "code",
   "execution_count": 3,
   "id": "7a386309-9145-4f19-8e6e-e3e6f938960a",
   "metadata": {
    "scrolled": true
   },
   "outputs": [
    {
     "name": "stdout",
     "output_type": "stream",
     "text": [
      "location\n",
      "Bengaluru/Bangalore                                         3775\n",
      "Mumbai                                                      2348\n",
      "Bengaluru                                                   1453\n",
      "Hyderabad / Secunderabad                                    1246\n",
      "Chennai                                                     1204\n",
      "Hyderabad                                                    936\n",
      "Noida                                                        775\n",
      "Delhi                                                        763\n",
      "Gurgaon                                                      743\n",
      "Mumbai , Mumbai                                              514\n",
      "Delhi/NCR(National Capital Region)                           383\n",
      "Bengaluru/Bangalore , Bengaluru / Bangalore                  360\n",
      "Delhi , Delhi                                                324\n",
      "Noida , Noida/Greater Noida                                  313\n",
      "Gurgaon , Gurgaon                                            148\n",
      "Bengaluru/Bangalore , Chennai , Hyderabad / Secunderabad     118\n",
      "Ghaziabad                                                    102\n",
      "Bengaluru/Bangalore , Hyderabad / Secunderabad               101\n",
      "Bengaluru, Hyderabad                                          87\n",
      "Delhi/NCR(National Capital Region) , Gurgaon                  83\n",
      "Name: count, dtype: int64\n"
     ]
    }
   ],
   "source": [
    "print(df[\"location\"].value_counts().head(20))\n"
   ]
  },
  {
   "cell_type": "code",
   "execution_count": 39,
   "id": "30832c60-a5ec-4490-9978-1621b63a6257",
   "metadata": {},
   "outputs": [
    {
     "name": "stdout",
     "output_type": "stream",
     "text": [
      "location_clean\n",
      "Bangalore                                       5619\n",
      "Mumbai                                          2862\n",
      "Hyderabad                                       2231\n",
      "Chennai                                         1214\n",
      "Noida                                           1106\n",
      "Delhi                                           1087\n",
      "Gurgaon                                          891\n",
      "Delhi, NCR(National Capital Region)              463\n",
      "Bangalore, Chennai, Hyderabad                    284\n",
      "Bangalore, Hyderabad                             275\n",
      "Bangalore, Chennai                               170\n",
      "Bangalore, Mumbai                                131\n",
      "Delhi, Gurgaon, NCR(National Capital Region)     122\n",
      "Ghaziabad                                        111\n",
      "Chennai, Hyderabad                                87\n",
      "Mumbai, Pune                                      85\n",
      "Bangalore, Chennai, Mumbai                        83\n",
      "Bangalore, Gurgaon                                77\n",
      "Delhi, NCR(National Capital Region), Noida        74\n",
      "Bangalore, Mumbai, Pune                           74\n",
      "Name: count, dtype: int64\n"
     ]
    }
   ],
   "source": [
    "import re\n",
    "\n",
    "df[\"location_clean\"] = df[\"location\"].str.lower().str.strip()\n",
    "df[\"location_clean\"] = df[\"location\"].str.replace(r'[/|]', ',', regex=True)\n",
    "df[\"location_clean\"] = df[\"location\"].str.replace(r'\\s*,\\s*', ',', regex=True)\n",
    "df[\"location_clean\"] = df[\"location\"].str.replace(r'\\s+', ' ', regex=True)\n",
    "df[\"location_clean\"] = df[\"location_clean\"].str.split(\",\")\n",
    "\n",
    "\n",
    "# 1. Define a mapping for normalization\n",
    "city_mapping = {\n",
    "    \"Bengaluru/Bangalore\": \"Bangalore\",\n",
    "    \"Bengaluru\": \"Bangalore\",\n",
    "    \"Bengaluru / Bangalore\": \"Bangalore\",\n",
    "    \"Bangalore\": \"Bangalore\",\n",
    "    \"Delhi/NCR(National Capital Region)\": \"Delhi NCR\",\n",
    "    \"Delhi , Delhi\": \"Delhi\",\n",
    "    \"Mumbai , Mumbai\": \"Mumbai\",\n",
    "    \"Hyderabad / Secunderabad\": \"Hyderabad\",\n",
    "    \"Noida , Noida/Greater Noida\": \"Noida\",\n",
    "    \"Gurgaon , Gurgaon\": \"Gurgaon\",\n",
    "    \"Bengaluru\": \"Bangalore\",\n",
    "    \"Bangalore\": \"Bangalore\",\n",
    "    \"Hyderabad / Secunderabad\": \"Hyderabad\",\n",
    "    \"Secunderabad\": \"Hyderabad\",\n",
    "    \"Delhi/NCR(National Capital Region)\": \"Delhi NCR\",\n",
    "    \"Delhi, NCR(National Capital Region)\": \"Delhi NCR\",\n",
    "    \"Delhi , Delhi\": \"Delhi\",\n",
    "    \"Mumbai , Mumbai\": \"Mumbai\",\n",
    "    \"Noida , Noida/Greater Noida\": \"Noida\",\n",
    "    \"Greater Noida\": \"Noida\",\n",
    "    \"Gurgaon , Gurgaon\": \"Gurgaon\",\n",
    "\n",
    "    \n",
    "}\n",
    "\n",
    "\n",
    "def normalize_city_list(city_entry):\n",
    "    cleaned = []\n",
    "    for city in city_entry:\n",
    "        city = city.strip()\n",
    "        if not city: \n",
    "            continue\n",
    "        # Normalize using mapping\n",
    "        if city in city_mapping:\n",
    "            cleaned.append(city_mapping[city])\n",
    "        else:\n",
    "            cleaned.append(city)\n",
    "    return sorted(set(cleaned))\n",
    "\n",
    "# Apply again\n",
    "df[\"location_clean\"] = df[\"location\"].fillna(\"\").apply(lambda x: re.split(r\"[,/]\", x))\n",
    "df[\"location_clean\"] = df[\"location_clean\"].apply(normalize_city_list)\n",
    "df[\"location_clean\"] = df[\"location_clean\"].apply(lambda x: \", \".join(x) if x else None)\n",
    "\n",
    "# Check again\n",
    "print(df['location_clean'].value_counts().head(20))\n"
   ]
  },
  {
   "cell_type": "code",
   "execution_count": 40,
   "id": "b99b8877-08f5-4a5f-a861-560c79209389",
   "metadata": {},
   "outputs": [
    {
     "name": "stdout",
     "output_type": "stream",
     "text": [
      "location\n",
      "Bengaluru/Bangalore                                         3775\n",
      "Mumbai                                                      2348\n",
      "Bengaluru                                                   1453\n",
      "Hyderabad / Secunderabad                                    1246\n",
      "Chennai                                                     1204\n",
      "Hyderabad                                                    936\n",
      "Noida                                                        775\n",
      "Delhi                                                        763\n",
      "Gurgaon                                                      743\n",
      "Mumbai , Mumbai                                              514\n",
      "Delhi/NCR(National Capital Region)                           383\n",
      "Bengaluru/Bangalore , Bengaluru / Bangalore                  360\n",
      "Delhi , Delhi                                                324\n",
      "Noida , Noida/Greater Noida                                  313\n",
      "Gurgaon , Gurgaon                                            148\n",
      "Bengaluru/Bangalore , Chennai , Hyderabad / Secunderabad     118\n",
      "Ghaziabad                                                    102\n",
      "Bengaluru/Bangalore , Hyderabad / Secunderabad               101\n",
      "Bengaluru, Hyderabad                                          87\n",
      "Delhi/NCR(National Capital Region) , Gurgaon                  83\n",
      "Name: count, dtype: int64\n"
     ]
    }
   ],
   "source": [
    "print(df[\"location\"].value_counts().head(20))"
   ]
  },
  {
   "cell_type": "code",
   "execution_count": 36,
   "id": "4d7bea3b-7136-4793-9af7-842113f44dc1",
   "metadata": {},
   "outputs": [
    {
     "name": "stdout",
     "output_type": "stream",
     "text": [
      "location_clean\n",
      "Bangalore                                       5619\n",
      "Mumbai                                          2862\n",
      "Hyderabad, Secunderabad                         1295\n",
      "Chennai                                         1214\n",
      "Delhi                                           1087\n",
      "Hyderabad                                        936\n",
      "Gurgaon                                          891\n",
      "Noida                                            783\n",
      "Delhi, NCR(National Capital Region)              463\n",
      "Greater Noida, Noida                             316\n",
      "Bangalore, Chennai, Hyderabad, Secunderabad      177\n",
      "Bangalore, Chennai                               170\n",
      "Bangalore, Hyderabad, Secunderabad               148\n",
      "Bangalore, Mumbai                                131\n",
      "Bangalore, Hyderabad                             127\n",
      "Delhi, Gurgaon, NCR(National Capital Region)     122\n",
      "Ghaziabad                                        111\n",
      "Bangalore, Chennai, Hyderabad                    107\n",
      "Mumbai, Pune                                      85\n",
      "Bangalore, Chennai, Mumbai                        83\n",
      "Name: count, dtype: int64\n"
     ]
    }
   ],
   "source": [
    "print(df[\"location_clean\"].value_counts().head(20))"
   ]
  },
  {
   "cell_type": "code",
   "execution_count": 41,
   "id": "5c331d8a-2910-47dd-8ae5-246f2a53dd84",
   "metadata": {},
   "outputs": [],
   "source": [
    "!git add .\n",
    "    "
   ]
  },
  {
   "cell_type": "code",
   "execution_count": 42,
   "id": "55b8aee4-13e1-4b0f-9d17-5b8e390f6d37",
   "metadata": {},
   "outputs": [
    {
     "name": "stdout",
     "output_type": "stream",
     "text": [
      "[main 268d067] DAY-3(Extended)\n",
      " 2 files changed, 294 insertions(+), 29 deletions(-)\n"
     ]
    }
   ],
   "source": [
    "! git commit -m \"DAY-3(Extended)\""
   ]
  },
  {
   "cell_type": "code",
   "execution_count": 46,
   "id": "7c91ed55-6e7c-4598-b0dd-8e97b02038cd",
   "metadata": {},
   "outputs": [
    {
     "ename": "KeyError",
     "evalue": "\"['location'] not found in axis\"",
     "output_type": "error",
     "traceback": [
      "\u001b[31m---------------------------------------------------------------------------\u001b[39m",
      "\u001b[31mKeyError\u001b[39m                                  Traceback (most recent call last)",
      "\u001b[36mCell\u001b[39m\u001b[36m \u001b[39m\u001b[32mIn[46]\u001b[39m\u001b[32m, line 1\u001b[39m\n\u001b[32m----> \u001b[39m\u001b[32m1\u001b[39m \u001b[43mdf\u001b[49m\u001b[43m.\u001b[49m\u001b[43mdrop\u001b[49m\u001b[43m(\u001b[49m\u001b[43mcolumns\u001b[49m\u001b[43m=\u001b[49m\u001b[43m[\u001b[49m\u001b[33;43m\"\u001b[39;49m\u001b[33;43mlocation\u001b[39;49m\u001b[33;43m\"\u001b[39;49m\u001b[43m]\u001b[49m\u001b[43m,\u001b[49m\u001b[43m \u001b[49m\u001b[43minplace\u001b[49m\u001b[43m=\u001b[49m\u001b[43m \u001b[49m\u001b[38;5;28;43;01mTrue\u001b[39;49;00m\u001b[43m)\u001b[49m\n",
      "\u001b[36mFile \u001b[39m\u001b[32m~/myenv/lib/python3.12/site-packages/pandas/core/frame.py:5588\u001b[39m, in \u001b[36mDataFrame.drop\u001b[39m\u001b[34m(self, labels, axis, index, columns, level, inplace, errors)\u001b[39m\n\u001b[32m   5440\u001b[39m \u001b[38;5;28;01mdef\u001b[39;00m\u001b[38;5;250m \u001b[39m\u001b[34mdrop\u001b[39m(\n\u001b[32m   5441\u001b[39m     \u001b[38;5;28mself\u001b[39m,\n\u001b[32m   5442\u001b[39m     labels: IndexLabel | \u001b[38;5;28;01mNone\u001b[39;00m = \u001b[38;5;28;01mNone\u001b[39;00m,\n\u001b[32m   (...)\u001b[39m\u001b[32m   5449\u001b[39m     errors: IgnoreRaise = \u001b[33m\"\u001b[39m\u001b[33mraise\u001b[39m\u001b[33m\"\u001b[39m,\n\u001b[32m   5450\u001b[39m ) -> DataFrame | \u001b[38;5;28;01mNone\u001b[39;00m:\n\u001b[32m   5451\u001b[39m \u001b[38;5;250m    \u001b[39m\u001b[33;03m\"\"\"\u001b[39;00m\n\u001b[32m   5452\u001b[39m \u001b[33;03m    Drop specified labels from rows or columns.\u001b[39;00m\n\u001b[32m   5453\u001b[39m \n\u001b[32m   (...)\u001b[39m\u001b[32m   5586\u001b[39m \u001b[33;03m            weight  1.0     0.8\u001b[39;00m\n\u001b[32m   5587\u001b[39m \u001b[33;03m    \"\"\"\u001b[39;00m\n\u001b[32m-> \u001b[39m\u001b[32m5588\u001b[39m     \u001b[38;5;28;01mreturn\u001b[39;00m \u001b[38;5;28;43msuper\u001b[39;49m\u001b[43m(\u001b[49m\u001b[43m)\u001b[49m\u001b[43m.\u001b[49m\u001b[43mdrop\u001b[49m\u001b[43m(\u001b[49m\n\u001b[32m   5589\u001b[39m \u001b[43m        \u001b[49m\u001b[43mlabels\u001b[49m\u001b[43m=\u001b[49m\u001b[43mlabels\u001b[49m\u001b[43m,\u001b[49m\n\u001b[32m   5590\u001b[39m \u001b[43m        \u001b[49m\u001b[43maxis\u001b[49m\u001b[43m=\u001b[49m\u001b[43maxis\u001b[49m\u001b[43m,\u001b[49m\n\u001b[32m   5591\u001b[39m \u001b[43m        \u001b[49m\u001b[43mindex\u001b[49m\u001b[43m=\u001b[49m\u001b[43mindex\u001b[49m\u001b[43m,\u001b[49m\n\u001b[32m   5592\u001b[39m \u001b[43m        \u001b[49m\u001b[43mcolumns\u001b[49m\u001b[43m=\u001b[49m\u001b[43mcolumns\u001b[49m\u001b[43m,\u001b[49m\n\u001b[32m   5593\u001b[39m \u001b[43m        \u001b[49m\u001b[43mlevel\u001b[49m\u001b[43m=\u001b[49m\u001b[43mlevel\u001b[49m\u001b[43m,\u001b[49m\n\u001b[32m   5594\u001b[39m \u001b[43m        \u001b[49m\u001b[43minplace\u001b[49m\u001b[43m=\u001b[49m\u001b[43minplace\u001b[49m\u001b[43m,\u001b[49m\n\u001b[32m   5595\u001b[39m \u001b[43m        \u001b[49m\u001b[43merrors\u001b[49m\u001b[43m=\u001b[49m\u001b[43merrors\u001b[49m\u001b[43m,\u001b[49m\n\u001b[32m   5596\u001b[39m \u001b[43m    \u001b[49m\u001b[43m)\u001b[49m\n",
      "\u001b[36mFile \u001b[39m\u001b[32m~/myenv/lib/python3.12/site-packages/pandas/core/generic.py:4807\u001b[39m, in \u001b[36mNDFrame.drop\u001b[39m\u001b[34m(self, labels, axis, index, columns, level, inplace, errors)\u001b[39m\n\u001b[32m   4805\u001b[39m \u001b[38;5;28;01mfor\u001b[39;00m axis, labels \u001b[38;5;129;01min\u001b[39;00m axes.items():\n\u001b[32m   4806\u001b[39m     \u001b[38;5;28;01mif\u001b[39;00m labels \u001b[38;5;129;01mis\u001b[39;00m \u001b[38;5;129;01mnot\u001b[39;00m \u001b[38;5;28;01mNone\u001b[39;00m:\n\u001b[32m-> \u001b[39m\u001b[32m4807\u001b[39m         obj = \u001b[43mobj\u001b[49m\u001b[43m.\u001b[49m\u001b[43m_drop_axis\u001b[49m\u001b[43m(\u001b[49m\u001b[43mlabels\u001b[49m\u001b[43m,\u001b[49m\u001b[43m \u001b[49m\u001b[43maxis\u001b[49m\u001b[43m,\u001b[49m\u001b[43m \u001b[49m\u001b[43mlevel\u001b[49m\u001b[43m=\u001b[49m\u001b[43mlevel\u001b[49m\u001b[43m,\u001b[49m\u001b[43m \u001b[49m\u001b[43merrors\u001b[49m\u001b[43m=\u001b[49m\u001b[43merrors\u001b[49m\u001b[43m)\u001b[49m\n\u001b[32m   4809\u001b[39m \u001b[38;5;28;01mif\u001b[39;00m inplace:\n\u001b[32m   4810\u001b[39m     \u001b[38;5;28mself\u001b[39m._update_inplace(obj)\n",
      "\u001b[36mFile \u001b[39m\u001b[32m~/myenv/lib/python3.12/site-packages/pandas/core/generic.py:4849\u001b[39m, in \u001b[36mNDFrame._drop_axis\u001b[39m\u001b[34m(self, labels, axis, level, errors, only_slice)\u001b[39m\n\u001b[32m   4847\u001b[39m         new_axis = axis.drop(labels, level=level, errors=errors)\n\u001b[32m   4848\u001b[39m     \u001b[38;5;28;01melse\u001b[39;00m:\n\u001b[32m-> \u001b[39m\u001b[32m4849\u001b[39m         new_axis = \u001b[43maxis\u001b[49m\u001b[43m.\u001b[49m\u001b[43mdrop\u001b[49m\u001b[43m(\u001b[49m\u001b[43mlabels\u001b[49m\u001b[43m,\u001b[49m\u001b[43m \u001b[49m\u001b[43merrors\u001b[49m\u001b[43m=\u001b[49m\u001b[43merrors\u001b[49m\u001b[43m)\u001b[49m\n\u001b[32m   4850\u001b[39m     indexer = axis.get_indexer(new_axis)\n\u001b[32m   4852\u001b[39m \u001b[38;5;66;03m# Case for non-unique axis\u001b[39;00m\n\u001b[32m   4853\u001b[39m \u001b[38;5;28;01melse\u001b[39;00m:\n",
      "\u001b[36mFile \u001b[39m\u001b[32m~/myenv/lib/python3.12/site-packages/pandas/core/indexes/base.py:7136\u001b[39m, in \u001b[36mIndex.drop\u001b[39m\u001b[34m(self, labels, errors)\u001b[39m\n\u001b[32m   7134\u001b[39m \u001b[38;5;28;01mif\u001b[39;00m mask.any():\n\u001b[32m   7135\u001b[39m     \u001b[38;5;28;01mif\u001b[39;00m errors != \u001b[33m\"\u001b[39m\u001b[33mignore\u001b[39m\u001b[33m\"\u001b[39m:\n\u001b[32m-> \u001b[39m\u001b[32m7136\u001b[39m         \u001b[38;5;28;01mraise\u001b[39;00m \u001b[38;5;167;01mKeyError\u001b[39;00m(\u001b[33mf\u001b[39m\u001b[33m\"\u001b[39m\u001b[38;5;132;01m{\u001b[39;00mlabels[mask].tolist()\u001b[38;5;132;01m}\u001b[39;00m\u001b[33m not found in axis\u001b[39m\u001b[33m\"\u001b[39m)\n\u001b[32m   7137\u001b[39m     indexer = indexer[~mask]\n\u001b[32m   7138\u001b[39m \u001b[38;5;28;01mreturn\u001b[39;00m \u001b[38;5;28mself\u001b[39m.delete(indexer)\n",
      "\u001b[31mKeyError\u001b[39m: \"['location'] not found in axis\""
     ]
    }
   ],
   "source": [
    "df.drop(columns=[\"location\"], inplace= True)"
   ]
  },
  {
   "cell_type": "code",
   "execution_count": 43,
   "id": "28d3c628-4d50-4b15-89b2-dcb03541e5b5",
   "metadata": {},
   "outputs": [],
   "source": [
    "df.to_csv(\"day3_cleaned.csv\", index=False)"
   ]
  },
  {
   "cell_type": "code",
   "execution_count": 45,
   "id": "cc7bced4-dd9b-43b8-bedc-56f0a4c2d622",
   "metadata": {},
   "outputs": [],
   "source": []
  },
  {
   "cell_type": "code",
   "execution_count": null,
   "id": "23ac9e5e-e39c-4351-8eec-3a0016d40e04",
   "metadata": {},
   "outputs": [],
   "source": []
  }
 ],
 "metadata": {
  "kernelspec": {
   "display_name": "Python 3 (ipykernel)",
   "language": "python",
   "name": "python3"
  },
  "language_info": {
   "codemirror_mode": {
    "name": "ipython",
    "version": 3
   },
   "file_extension": ".py",
   "mimetype": "text/x-python",
   "name": "python",
   "nbconvert_exporter": "python",
   "pygments_lexer": "ipython3",
   "version": "3.12.11"
  }
 },
 "nbformat": 4,
 "nbformat_minor": 5
}
