{
 "cells": [
  {
   "cell_type": "code",
   "execution_count": 1,
   "id": "0b71ee61-089d-4c30-8395-930334b2ea8d",
   "metadata": {
    "scrolled": true
   },
   "outputs": [
    {
     "name": "stdout",
     "output_type": "stream",
     "text": [
      "                                      company  \\\n",
      "0                            MM Media Pvt Ltd   \n",
      "1                          find live infotech   \n",
      "2         Softtech Career Infosystem Pvt. Ltd   \n",
      "3                      Onboard HRServices LLP   \n",
      "4  Spire Technologies and Solutions Pvt. Ltd.   \n",
      "\n",
      "                                           education   experience  \\\n",
      "0  UG: B.Tech/B.E. - Any Specialization PG:Any Po...    0 - 1 yrs   \n",
      "1  UG: B.Tech/B.E. - Any Specialization PG:MBA/PG...    0 - 0 yrs   \n",
      "2  UG: Any Graduate - Any Specialization PG:Any P...    4 - 8 yrs   \n",
      "3  UG: Any Graduate - Any Specialization PG:CA Do...  11 - 15 yrs   \n",
      "4  UG: B.Tech/B.E. - Any Specialization PG:Any Po...    6 - 8 yrs   \n",
      "\n",
      "                                   industry  \\\n",
      "0          Media / Entertainment / Internet   \n",
      "1  Advertising / PR / MR / Event Management   \n",
      "2           IT-Software / Software Services   \n",
      "3    Banking / Financial Services / Broking   \n",
      "4           IT-Software / Software Services   \n",
      "\n",
      "                                         description         jobid  \\\n",
      "0  Job Description   Send me Jobs like this Quali...  210516002263   \n",
      "1  Job Description   Send me Jobs like this Quali...  210516002391   \n",
      "2  Job Description   Send me Jobs like this - as ...  101016900534   \n",
      "3  Job Description   Send me Jobs like this - Inv...   81016900536   \n",
      "4  Job Description   Send me Jobs like this Pleas...  120916002122   \n",
      "\n",
      "                                            location  \\\n",
      "0                                            Chennai   \n",
      "1                                            Chennai   \n",
      "2                                          Bengaluru   \n",
      "3  Mumbai, Bengaluru, Kolkata, Chennai, Coimbator...   \n",
      "4                                          Bengaluru   \n",
      "\n",
      "                                  job_title  num_positions  \\\n",
      "0  Walkin Data Entry Operator (night Shift)            NaN   \n",
      "1        Work Based Onhome Based Part Time.           60.0   \n",
      "2                    Pl/sql Developer - SQL            NaN   \n",
      "3    Manager/ad/partner - Indirect Tax - CA            NaN   \n",
      "4           JAVA Technical Lead (6-8 yrs) -            4.0   \n",
      "\n",
      "                           salary                date_posted source  \\\n",
      "0         1,50,000 - 2,25,000 P.A  2016-05-21 19:30:00 +0000    NaN   \n",
      "1  1,50,000 - 2,50,000 P.A. 20000  2016-05-21 19:30:00 +0000    NaN   \n",
      "2      Not Disclosed by Recruiter  2016-10-13 16:20:55 +0000    NaN   \n",
      "3      Not Disclosed by Recruiter  2016-10-13 16:20:55 +0000    NaN   \n",
      "4      Not Disclosed by Recruiter  2016-10-13 16:20:55 +0000    NaN   \n",
      "\n",
      "                                  skills                                id  \\\n",
      "0                                   ITES  43b19632647068535437c774b6ca6cf8   \n",
      "1                              Marketing  d4c72325e57f89f364812b5ed5a795f0   \n",
      "2  IT Software - Application Programming  c47df6f4cfdf5b46f1fd713ba61b9eba   \n",
      "3                               Accounts  115d28f140f694dd1cc61c53d03c66ae   \n",
      "4  IT Software - Application Programming  a12553fc03bc7bcced8b1bb8963f97b4   \n",
      "\n",
      "   salary_cleaned                       job_title_cleaned  \n",
      "0        187500.0  Walkin Data Entry Operator Night Shift  \n",
      "1        200000.0       Work Based Onhome Based Part Time  \n",
      "2             NaN                       Software Engineer  \n",
      "3             NaN        Manageradpartner Indirect Tax Ca  \n",
      "4             NaN                          Java Developer  \n"
     ]
    }
   ],
   "source": [
    "import pandas as pd\n",
    "import numpy as np\n",
    "import matplotlib.pyplot as plt\n",
    "path = \"day2_cleaned.csv\"\n",
    "df = pd.read_csv(path)\n",
    "print(df.head())\n",
    "# print(df.info())"
   ]
  },
  {
   "cell_type": "markdown",
   "id": "a6ae1d05-fd2c-412c-8702-5e55c5cf8694",
   "metadata": {},
   "source": [
    "# Location normalization"
   ]
  },
  {
   "cell_type": "code",
   "execution_count": 3,
   "id": "7a386309-9145-4f19-8e6e-e3e6f938960a",
   "metadata": {
    "scrolled": true
   },
   "outputs": [
    {
     "name": "stdout",
     "output_type": "stream",
     "text": [
      "location\n",
      "Bengaluru/Bangalore                                         3775\n",
      "Mumbai                                                      2348\n",
      "Bengaluru                                                   1453\n",
      "Hyderabad / Secunderabad                                    1246\n",
      "Chennai                                                     1204\n",
      "Hyderabad                                                    936\n",
      "Noida                                                        775\n",
      "Delhi                                                        763\n",
      "Gurgaon                                                      743\n",
      "Mumbai , Mumbai                                              514\n",
      "Delhi/NCR(National Capital Region)                           383\n",
      "Bengaluru/Bangalore , Bengaluru / Bangalore                  360\n",
      "Delhi , Delhi                                                324\n",
      "Noida , Noida/Greater Noida                                  313\n",
      "Gurgaon , Gurgaon                                            148\n",
      "Bengaluru/Bangalore , Chennai , Hyderabad / Secunderabad     118\n",
      "Ghaziabad                                                    102\n",
      "Bengaluru/Bangalore , Hyderabad / Secunderabad               101\n",
      "Bengaluru, Hyderabad                                          87\n",
      "Delhi/NCR(National Capital Region) , Gurgaon                  83\n",
      "Name: count, dtype: int64\n"
     ]
    }
   ],
   "source": [
    "print(df[\"location\"].value_counts().head(20))\n"
   ]
  },
  {
   "cell_type": "code",
   "execution_count": 39,
   "id": "30832c60-a5ec-4490-9978-1621b63a6257",
   "metadata": {},
   "outputs": [
    {
     "name": "stdout",
     "output_type": "stream",
     "text": [
      "location_clean\n",
      "Bangalore                                       5619\n",
      "Mumbai                                          2862\n",
      "Hyderabad                                       2231\n",
      "Chennai                                         1214\n",
      "Noida                                           1106\n",
      "Delhi                                           1087\n",
      "Gurgaon                                          891\n",
      "Delhi, NCR(National Capital Region)              463\n",
      "Bangalore, Chennai, Hyderabad                    284\n",
      "Bangalore, Hyderabad                             275\n",
      "Bangalore, Chennai                               170\n",
      "Bangalore, Mumbai                                131\n",
      "Delhi, Gurgaon, NCR(National Capital Region)     122\n",
      "Ghaziabad                                        111\n",
      "Chennai, Hyderabad                                87\n",
      "Mumbai, Pune                                      85\n",
      "Bangalore, Chennai, Mumbai                        83\n",
      "Bangalore, Gurgaon                                77\n",
      "Delhi, NCR(National Capital Region), Noida        74\n",
      "Bangalore, Mumbai, Pune                           74\n",
      "Name: count, dtype: int64\n"
     ]
    }
   ],
   "source": [
    "import re\n",
    "\n",
    "df[\"location_clean\"] = df[\"location\"].str.lower().str.strip()\n",
    "df[\"location_clean\"] = df[\"location\"].str.replace(r'[/|]', ',', regex=True)\n",
    "df[\"location_clean\"] = df[\"location\"].str.replace(r'\\s*,\\s*', ',', regex=True)\n",
    "df[\"location_clean\"] = df[\"location\"].str.replace(r'\\s+', ' ', regex=True)\n",
    "df[\"location_clean\"] = df[\"location_clean\"].str.split(\",\")\n",
    "\n",
    "\n",
    "# 1. Define a mapping for normalization\n",
    "city_mapping = {\n",
    "    \"Bengaluru/Bangalore\": \"Bangalore\",\n",
    "    \"Bengaluru\": \"Bangalore\",\n",
    "    \"Bengaluru / Bangalore\": \"Bangalore\",\n",
    "    \"Bangalore\": \"Bangalore\",\n",
    "    \"Delhi/NCR(National Capital Region)\": \"Delhi NCR\",\n",
    "    \"Delhi , Delhi\": \"Delhi\",\n",
    "    \"Mumbai , Mumbai\": \"Mumbai\",\n",
    "    \"Hyderabad / Secunderabad\": \"Hyderabad\",\n",
    "    \"Noida , Noida/Greater Noida\": \"Noida\",\n",
    "    \"Gurgaon , Gurgaon\": \"Gurgaon\",\n",
    "    \"Bengaluru\": \"Bangalore\",\n",
    "    \"Bangalore\": \"Bangalore\",\n",
    "    \"Hyderabad / Secunderabad\": \"Hyderabad\",\n",
    "    \"Secunderabad\": \"Hyderabad\",\n",
    "    \"Delhi/NCR(National Capital Region)\": \"Delhi NCR\",\n",
    "    \"Delhi, NCR(National Capital Region)\": \"Delhi NCR\",\n",
    "    \"Delhi , Delhi\": \"Delhi\",\n",
    "    \"Mumbai , Mumbai\": \"Mumbai\",\n",
    "    \"Noida , Noida/Greater Noida\": \"Noida\",\n",
    "    \"Greater Noida\": \"Noida\",\n",
    "    \"Gurgaon , Gurgaon\": \"Gurgaon\",\n",
    "\n",
    "    \n",
    "}\n",
    "\n",
    "\n",
    "def normalize_city_list(city_entry):\n",
    "    cleaned = []\n",
    "    for city in city_entry:\n",
    "        city = city.strip()\n",
    "        if not city: \n",
    "            continue\n",
    "        # Normalize using mapping\n",
    "        if city in city_mapping:\n",
    "            cleaned.append(city_mapping[city])\n",
    "        else:\n",
    "            cleaned.append(city)\n",
    "    return sorted(set(cleaned))\n",
    "\n",
    "# Apply again\n",
    "df[\"location_clean\"] = df[\"location\"].fillna(\"\").apply(lambda x: re.split(r\"[,/]\", x))\n",
    "df[\"location_clean\"] = df[\"location_clean\"].apply(normalize_city_list)\n",
    "df[\"location_clean\"] = df[\"location_clean\"].apply(lambda x: \", \".join(x) if x else None)\n",
    "\n",
    "# Check again\n",
    "print(df['location_clean'].value_counts().head(20))\n"
   ]
  },
  {
   "cell_type": "code",
   "execution_count": 40,
   "id": "b99b8877-08f5-4a5f-a861-560c79209389",
   "metadata": {},
   "outputs": [
    {
     "name": "stdout",
     "output_type": "stream",
     "text": [
      "location\n",
      "Bengaluru/Bangalore                                         3775\n",
      "Mumbai                                                      2348\n",
      "Bengaluru                                                   1453\n",
      "Hyderabad / Secunderabad                                    1246\n",
      "Chennai                                                     1204\n",
      "Hyderabad                                                    936\n",
      "Noida                                                        775\n",
      "Delhi                                                        763\n",
      "Gurgaon                                                      743\n",
      "Mumbai , Mumbai                                              514\n",
      "Delhi/NCR(National Capital Region)                           383\n",
      "Bengaluru/Bangalore , Bengaluru / Bangalore                  360\n",
      "Delhi , Delhi                                                324\n",
      "Noida , Noida/Greater Noida                                  313\n",
      "Gurgaon , Gurgaon                                            148\n",
      "Bengaluru/Bangalore , Chennai , Hyderabad / Secunderabad     118\n",
      "Ghaziabad                                                    102\n",
      "Bengaluru/Bangalore , Hyderabad / Secunderabad               101\n",
      "Bengaluru, Hyderabad                                          87\n",
      "Delhi/NCR(National Capital Region) , Gurgaon                  83\n",
      "Name: count, dtype: int64\n"
     ]
    }
   ],
   "source": [
    "print(df[\"location\"].value_counts().head(20))"
   ]
  },
  {
   "cell_type": "code",
   "execution_count": 36,
   "id": "4d7bea3b-7136-4793-9af7-842113f44dc1",
   "metadata": {},
   "outputs": [
    {
     "name": "stdout",
     "output_type": "stream",
     "text": [
      "location_clean\n",
      "Bangalore                                       5619\n",
      "Mumbai                                          2862\n",
      "Hyderabad, Secunderabad                         1295\n",
      "Chennai                                         1214\n",
      "Delhi                                           1087\n",
      "Hyderabad                                        936\n",
      "Gurgaon                                          891\n",
      "Noida                                            783\n",
      "Delhi, NCR(National Capital Region)              463\n",
      "Greater Noida, Noida                             316\n",
      "Bangalore, Chennai, Hyderabad, Secunderabad      177\n",
      "Bangalore, Chennai                               170\n",
      "Bangalore, Hyderabad, Secunderabad               148\n",
      "Bangalore, Mumbai                                131\n",
      "Bangalore, Hyderabad                             127\n",
      "Delhi, Gurgaon, NCR(National Capital Region)     122\n",
      "Ghaziabad                                        111\n",
      "Bangalore, Chennai, Hyderabad                    107\n",
      "Mumbai, Pune                                      85\n",
      "Bangalore, Chennai, Mumbai                        83\n",
      "Name: count, dtype: int64\n"
     ]
    }
   ],
   "source": [
    "print(df[\"location_clean\"].value_counts().head(20))"
   ]
  },
  {
   "cell_type": "code",
   "execution_count": 41,
   "id": "5c331d8a-2910-47dd-8ae5-246f2a53dd84",
   "metadata": {},
   "outputs": [],
   "source": [
    "!git add .\n",
    "    "
   ]
  },
  {
   "cell_type": "code",
   "execution_count": null,
   "id": "55b8aee4-13e1-4b0f-9d17-5b8e390f6d37",
   "metadata": {},
   "outputs": [],
   "source": [
    "! git commit -m \"DAY 4\""
   ]
  }
 ],
 "metadata": {
  "kernelspec": {
   "display_name": "Python 3 (ipykernel)",
   "language": "python",
   "name": "python3"
  },
  "language_info": {
   "codemirror_mode": {
    "name": "ipython",
    "version": 3
   },
   "file_extension": ".py",
   "mimetype": "text/x-python",
   "name": "python",
   "nbconvert_exporter": "python",
   "pygments_lexer": "ipython3",
   "version": "3.12.11"
  }
 },
 "nbformat": 4,
 "nbformat_minor": 5
}
