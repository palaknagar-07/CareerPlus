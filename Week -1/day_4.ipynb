{
 "cells": [
  {
   "cell_type": "code",
   "execution_count": 1,
   "id": "d1cdb5c4-aa7a-41d2-b223-844a159e7062",
   "metadata": {},
   "outputs": [
    {
     "name": "stdout",
     "output_type": "stream",
     "text": [
      "                                      company  \\\n",
      "0                            MM Media Pvt Ltd   \n",
      "1                          find live infotech   \n",
      "2         Softtech Career Infosystem Pvt. Ltd   \n",
      "3                      Onboard HRServices LLP   \n",
      "4  Spire Technologies and Solutions Pvt. Ltd.   \n",
      "\n",
      "                                           education   experience  \\\n",
      "0  UG: B.Tech/B.E. - Any Specialization PG:Any Po...    0 - 1 yrs   \n",
      "1  UG: B.Tech/B.E. - Any Specialization PG:MBA/PG...    0 - 0 yrs   \n",
      "2  UG: Any Graduate - Any Specialization PG:Any P...    4 - 8 yrs   \n",
      "3  UG: Any Graduate - Any Specialization PG:CA Do...  11 - 15 yrs   \n",
      "4  UG: B.Tech/B.E. - Any Specialization PG:Any Po...    6 - 8 yrs   \n",
      "\n",
      "                                   industry  \\\n",
      "0          Media / Entertainment / Internet   \n",
      "1  Advertising / PR / MR / Event Management   \n",
      "2           IT-Software / Software Services   \n",
      "3    Banking / Financial Services / Broking   \n",
      "4           IT-Software / Software Services   \n",
      "\n",
      "                                         description         jobid  \\\n",
      "0  Job Description   Send me Jobs like this Quali...  210516002263   \n",
      "1  Job Description   Send me Jobs like this Quali...  210516002391   \n",
      "2  Job Description   Send me Jobs like this - as ...  101016900534   \n",
      "3  Job Description   Send me Jobs like this - Inv...   81016900536   \n",
      "4  Job Description   Send me Jobs like this Pleas...  120916002122   \n",
      "\n",
      "                                  job_title  num_positions  \\\n",
      "0  Walkin Data Entry Operator (night Shift)            NaN   \n",
      "1        Work Based Onhome Based Part Time.           60.0   \n",
      "2                    Pl/sql Developer - SQL            NaN   \n",
      "3    Manager/ad/partner - Indirect Tax - CA            NaN   \n",
      "4           JAVA Technical Lead (6-8 yrs) -            4.0   \n",
      "\n",
      "                           salary                date_posted source  \\\n",
      "0         1,50,000 - 2,25,000 P.A  2016-05-21 19:30:00 +0000    NaN   \n",
      "1  1,50,000 - 2,50,000 P.A. 20000  2016-05-21 19:30:00 +0000    NaN   \n",
      "2      Not Disclosed by Recruiter  2016-10-13 16:20:55 +0000    NaN   \n",
      "3      Not Disclosed by Recruiter  2016-10-13 16:20:55 +0000    NaN   \n",
      "4      Not Disclosed by Recruiter  2016-10-13 16:20:55 +0000    NaN   \n",
      "\n",
      "                                  skills                                id  \\\n",
      "0                                   ITES  43b19632647068535437c774b6ca6cf8   \n",
      "1                              Marketing  d4c72325e57f89f364812b5ed5a795f0   \n",
      "2  IT Software - Application Programming  c47df6f4cfdf5b46f1fd713ba61b9eba   \n",
      "3                               Accounts  115d28f140f694dd1cc61c53d03c66ae   \n",
      "4  IT Software - Application Programming  a12553fc03bc7bcced8b1bb8963f97b4   \n",
      "\n",
      "   salary_cleaned                       job_title_cleaned  \\\n",
      "0        187500.0  walkin data entry operator night shift   \n",
      "1        200000.0       work based onhome based part time   \n",
      "2             NaN                     plsql developer sql   \n",
      "3             NaN        manageradpartner indirect tax ca   \n",
      "4             NaN                      java technical yrs   \n",
      "\n",
      "                        job_title_Cleaned  \\\n",
      "0  walkin data entry operator night shift   \n",
      "1       work based onhome based part time   \n",
      "2                    plsql developer  sql   \n",
      "3      manageradpartner  indirect tax  ca   \n",
      "4             java technical lead 68 yrs    \n",
      "\n",
      "                                      location_clean  \n",
      "0                                            Chennai  \n",
      "1                                            Chennai  \n",
      "2                                          Bangalore  \n",
      "3  Bangalore, Chennai, Coimbatore, Kolkata, Mumba...  \n",
      "4                                          Bangalore  \n"
     ]
    }
   ],
   "source": [
    "import pandas as pd\n",
    "import numpy as np\n",
    "import matplotlib.pyplot as plt\n",
    "path = \"day3_cleaned.csv\"\n",
    "df = pd.read_csv(path)\n",
    "print(df.head())\n",
    "# print(df.info())"
   ]
  },
  {
   "cell_type": "code",
   "execution_count": 28,
   "id": "27f73c5b-cd94-48c0-8d2c-6deb1125d8e9",
   "metadata": {},
   "outputs": [],
   "source": [
    "skills_dict = [\n",
    "    \"python\", \"java\", \"c++\", \"c#\", \"javascript\", \"html\", \"css\", \"php\", \"ruby\",\n",
    "    \"sql\", \"mysql\", \"postgresql\", \"oracle\", \"mongodb\",\n",
    "    \"excel\", \"power bi\", \"tableau\",\n",
    "    \"aws\", \"azure\", \"gcp\", \"docker\", \"kubernetes\",\n",
    "    \"hadoop\", \"spark\", \"scala\",\n",
    "    \"git\", \"linux\", \"unix\", \"rest api\", \"machine learning\", \"deep learning\",\n",
    "    \"nlp\", \"pandas\", \"numpy\", \"tensorflow\", \"pytorch\"\n",
    "]\n"
   ]
  },
  {
   "cell_type": "code",
   "execution_count": 29,
   "id": "245b30cb-dff3-4075-8a5a-3dab73f9df6b",
   "metadata": {
    "collapsed": true,
    "jupyter": {
     "outputs_hidden": true
    }
   },
   "outputs": [
    {
     "name": "stdout",
     "output_type": "stream",
     "text": [
      "                                         description               skills_list\n",
      "0  Job Description   Send me Jobs like this Quali...                        []\n",
      "1  Job Description   Send me Jobs like this Quali...                        []\n",
      "2  Job Description   Send me Jobs like this - as ...                     [SQL]\n",
      "3  Job Description   Send me Jobs like this - Inv...                     [C++]\n",
      "4  Job Description   Send me Jobs like this Pleas...  [Java, JavaScript, HTML]\n",
      "5  Job Description   Send me Jobs like this We ar...                        []\n",
      "6  Job Description   Send me Jobs like this exper...      [Python, JavaScript]\n",
      "7  Job Description   Send me Jobs like this Job D...                     [C++]\n",
      "8  Job Description   Send me Jobs like this Indep...                        []\n",
      "9  Job Description   Send me Jobs like this Overa...                        []\n"
     ]
    }
   ],
   "source": [
    "skill_set = [\n",
    "    \"Python\", \"SQL\", \"R\", \"Java\", \"C++\", \"JavaScript\", \"HTML\", \"CSS\", \n",
    "    \"Power BI\", \"Tableau\", \"Excel\", \"AWS\", \"Azure\", \"GCP\", \"Hadoop\", \n",
    "    \"Spark\", \"Machine Learning\", \"Deep Learning\", \"NLP\", \"TensorFlow\", \n",
    "    \"PyTorch\", \"Docker\", \"Kubernetes\"\n",
    "]\n",
    "\n",
    "def extract_skills(text):\n",
    "    if not isinstance(text, str):  # Skip NaN or non-string rows\n",
    "        return []\n",
    "    found = []\n",
    "    for skill in skill_set:\n",
    "        if re.search(rf\"\\b{skill}\\b\", text, re.IGNORECASE):\n",
    "            found.append(skill)\n",
    "    return found\n",
    "\n",
    "# Apply safely\n",
    "df[\"skills_list\"] = df[\"description\"].apply(extract_skills)\n",
    "\n",
    "print(df[[\"description\", \"skills_list\"]].head(10))      "
   ]
  },
  {
   "cell_type": "markdown",
   "id": "0bf4c523-23fe-4b5c-b4da-bd0f119532a4",
   "metadata": {},
   "source": [
    "# Step 1: Build a clean skills dictionary\n"
   ]
  },
  {
   "cell_type": "markdown",
   "id": "2a710dbd-4046-49a1-a2d3-b866e4f5d6fa",
   "metadata": {},
   "source": [
    "# Step 2: Extract skills per job description"
   ]
  },
  {
   "cell_type": "code",
   "execution_count": null,
   "id": "ea834808-b6d4-4541-9582-320e6069f5bf",
   "metadata": {},
   "outputs": [],
   "source": [
    "!git add .\n",
    "    "
   ]
  },
  {
   "cell_type": "code",
   "execution_count": null,
   "id": "4a4bfc17-2125-45da-a7ab-3b8a441ba7f8",
   "metadata": {},
   "outputs": [],
   "source": [
    "!git commit -m \"Day-4\""
   ]
  },
  {
   "cell_type": "code",
   "execution_count": null,
   "id": "b30abac0-f081-4430-9190-7db63edb090e",
   "metadata": {},
   "outputs": [],
   "source": [
    "df.to_csv(\"day3_cleaned.csv\", index=False)"
   ]
  },
  {
   "cell_type": "code",
   "execution_count": null,
   "id": "fb72f5f1-f25e-4737-b6a4-e77b8c93560f",
   "metadata": {},
   "outputs": [],
   "source": [
    "!git add .\n",
    "    "
   ]
  },
  {
   "cell_type": "code",
   "execution_count": null,
   "id": "4d6a3155-2272-405f-9ccb-6d65e9735c7b",
   "metadata": {},
   "outputs": [],
   "source": [
    "!git commit -m \"Export data-set\""
   ]
  },
  {
   "cell_type": "code",
   "execution_count": null,
   "id": "c219ce55-a578-440c-ae58-a85231cda324",
   "metadata": {},
   "outputs": [],
   "source": [
    "!git push\n"
   ]
  },
  {
   "cell_type": "code",
   "execution_count": null,
   "id": "fb3c203e-f0fb-442b-9544-5d9eef4db89b",
   "metadata": {},
   "outputs": [],
   "source": [
    "!git status\n"
   ]
  },
  {
   "cell_type": "code",
   "execution_count": null,
   "id": "b9952975-2e94-4e95-9cbc-060ad243848e",
   "metadata": {},
   "outputs": [],
   "source": []
  }
 ],
 "metadata": {
  "kernelspec": {
   "display_name": "Python 3 (ipykernel)",
   "language": "python",
   "name": "python3"
  },
  "language_info": {
   "codemirror_mode": {
    "name": "ipython",
    "version": 3
   },
   "file_extension": ".py",
   "mimetype": "text/x-python",
   "name": "python",
   "nbconvert_exporter": "python",
   "pygments_lexer": "ipython3",
   "version": "3.12.11"
  }
 },
 "nbformat": 4,
 "nbformat_minor": 5
}
