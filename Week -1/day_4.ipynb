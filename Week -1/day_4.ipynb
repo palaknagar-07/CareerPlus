{
 "cells": [
  {
   "cell_type": "code",
   "execution_count": 1,
   "id": "d1cdb5c4-aa7a-41d2-b223-844a159e7062",
   "metadata": {},
   "outputs": [
    {
     "name": "stdout",
     "output_type": "stream",
     "text": [
      "                                      company  \\\n",
      "0                            MM Media Pvt Ltd   \n",
      "1                          find live infotech   \n",
      "2         Softtech Career Infosystem Pvt. Ltd   \n",
      "3                      Onboard HRServices LLP   \n",
      "4  Spire Technologies and Solutions Pvt. Ltd.   \n",
      "\n",
      "                                           education   experience  \\\n",
      "0  UG: B.Tech/B.E. - Any Specialization PG:Any Po...    0 - 1 yrs   \n",
      "1  UG: B.Tech/B.E. - Any Specialization PG:MBA/PG...    0 - 0 yrs   \n",
      "2  UG: Any Graduate - Any Specialization PG:Any P...    4 - 8 yrs   \n",
      "3  UG: Any Graduate - Any Specialization PG:CA Do...  11 - 15 yrs   \n",
      "4  UG: B.Tech/B.E. - Any Specialization PG:Any Po...    6 - 8 yrs   \n",
      "\n",
      "                                   industry  \\\n",
      "0          Media / Entertainment / Internet   \n",
      "1  Advertising / PR / MR / Event Management   \n",
      "2           IT-Software / Software Services   \n",
      "3    Banking / Financial Services / Broking   \n",
      "4           IT-Software / Software Services   \n",
      "\n",
      "                                         description         jobid  \\\n",
      "0  Job Description   Send me Jobs like this Quali...  210516002263   \n",
      "1  Job Description   Send me Jobs like this Quali...  210516002391   \n",
      "2  Job Description   Send me Jobs like this - as ...  101016900534   \n",
      "3  Job Description   Send me Jobs like this - Inv...   81016900536   \n",
      "4  Job Description   Send me Jobs like this Pleas...  120916002122   \n",
      "\n",
      "                                  job_title  num_positions  \\\n",
      "0  Walkin Data Entry Operator (night Shift)            NaN   \n",
      "1        Work Based Onhome Based Part Time.           60.0   \n",
      "2                    Pl/sql Developer - SQL            NaN   \n",
      "3    Manager/ad/partner - Indirect Tax - CA            NaN   \n",
      "4           JAVA Technical Lead (6-8 yrs) -            4.0   \n",
      "\n",
      "                           salary                date_posted source  \\\n",
      "0         1,50,000 - 2,25,000 P.A  2016-05-21 19:30:00 +0000    NaN   \n",
      "1  1,50,000 - 2,50,000 P.A. 20000  2016-05-21 19:30:00 +0000    NaN   \n",
      "2      Not Disclosed by Recruiter  2016-10-13 16:20:55 +0000    NaN   \n",
      "3      Not Disclosed by Recruiter  2016-10-13 16:20:55 +0000    NaN   \n",
      "4      Not Disclosed by Recruiter  2016-10-13 16:20:55 +0000    NaN   \n",
      "\n",
      "                                  skills                                id  \\\n",
      "0                                   ITES  43b19632647068535437c774b6ca6cf8   \n",
      "1                              Marketing  d4c72325e57f89f364812b5ed5a795f0   \n",
      "2  IT Software - Application Programming  c47df6f4cfdf5b46f1fd713ba61b9eba   \n",
      "3                               Accounts  115d28f140f694dd1cc61c53d03c66ae   \n",
      "4  IT Software - Application Programming  a12553fc03bc7bcced8b1bb8963f97b4   \n",
      "\n",
      "   salary_cleaned                       job_title_cleaned  \\\n",
      "0        187500.0  walkin data entry operator night shift   \n",
      "1        200000.0       work based onhome based part time   \n",
      "2             NaN                     plsql developer sql   \n",
      "3             NaN        manageradpartner indirect tax ca   \n",
      "4             NaN                      java technical yrs   \n",
      "\n",
      "                        job_title_Cleaned  \\\n",
      "0  walkin data entry operator night shift   \n",
      "1       work based onhome based part time   \n",
      "2                    plsql developer  sql   \n",
      "3      manageradpartner  indirect tax  ca   \n",
      "4             java technical lead 68 yrs    \n",
      "\n",
      "                                      location_clean  \n",
      "0                                            Chennai  \n",
      "1                                            Chennai  \n",
      "2                                          Bangalore  \n",
      "3  Bangalore, Chennai, Coimbatore, Kolkata, Mumba...  \n",
      "4                                          Bangalore  \n"
     ]
    }
   ],
   "source": [
    "import pandas as pd\n",
    "import numpy as np\n",
    "import matplotlib.pyplot as plt\n",
    "path = \"day3_cleaned.csv\"\n",
    "df = pd.read_csv(path)\n",
    "print(df.head())\n",
    "# print(df.info())"
   ]
  },
  {
   "cell_type": "code",
   "execution_count": 2,
   "id": "27f73c5b-cd94-48c0-8d2c-6deb1125d8e9",
   "metadata": {},
   "outputs": [],
   "source": [
    "skills_dict = [\n",
    "    \"python\", \"java\", \"c++\", \"c#\", \"javascript\", \"html\", \"css\", \"php\", \"ruby\",\n",
    "    \"sql\", \"mysql\", \"postgresql\", \"oracle\", \"mongodb\",\n",
    "    \"excel\", \"power bi\", \"tableau\",\n",
    "    \"aws\", \"azure\", \"gcp\", \"docker\", \"kubernetes\",\n",
    "    \"hadoop\", \"spark\", \"scala\",\n",
    "    \"git\", \"linux\", \"unix\", \"rest api\", \"machine learning\", \"deep learning\",\n",
    "    \"nlp\", \"pandas\", \"numpy\", \"tensorflow\", \"pytorch\"\n",
    "]\n"
   ]
  },
  {
   "cell_type": "code",
   "execution_count": 3,
   "id": "245b30cb-dff3-4075-8a5a-3dab73f9df6b",
   "metadata": {},
   "outputs": [
    {
     "ename": "NameError",
     "evalue": "name 're' is not defined",
     "output_type": "error",
     "traceback": [
      "\u001b[31m---------------------------------------------------------------------------\u001b[39m",
      "\u001b[31mNameError\u001b[39m                                 Traceback (most recent call last)",
      "\u001b[36mCell\u001b[39m\u001b[36m \u001b[39m\u001b[32mIn[3]\u001b[39m\u001b[32m, line 18\u001b[39m\n\u001b[32m     15\u001b[39m     \u001b[38;5;28;01mreturn\u001b[39;00m found\n\u001b[32m     17\u001b[39m \u001b[38;5;66;03m# Apply safely\u001b[39;00m\n\u001b[32m---> \u001b[39m\u001b[32m18\u001b[39m df[\u001b[33m\"\u001b[39m\u001b[33mskills_list\u001b[39m\u001b[33m\"\u001b[39m] = \u001b[43mdf\u001b[49m\u001b[43m[\u001b[49m\u001b[33;43m\"\u001b[39;49m\u001b[33;43mdescription\u001b[39;49m\u001b[33;43m\"\u001b[39;49m\u001b[43m]\u001b[49m\u001b[43m.\u001b[49m\u001b[43mapply\u001b[49m\u001b[43m(\u001b[49m\u001b[43mextract_skills\u001b[49m\u001b[43m)\u001b[49m\n\u001b[32m     20\u001b[39m \u001b[38;5;28mprint\u001b[39m(df[[\u001b[33m\"\u001b[39m\u001b[33mdescription\u001b[39m\u001b[33m\"\u001b[39m, \u001b[33m\"\u001b[39m\u001b[33mskills_list\u001b[39m\u001b[33m\"\u001b[39m]].head(\u001b[32m10\u001b[39m))      \n",
      "\u001b[36mFile \u001b[39m\u001b[32m~/myenv/lib/python3.12/site-packages/pandas/core/series.py:4935\u001b[39m, in \u001b[36mSeries.apply\u001b[39m\u001b[34m(self, func, convert_dtype, args, by_row, **kwargs)\u001b[39m\n\u001b[32m   4800\u001b[39m \u001b[38;5;28;01mdef\u001b[39;00m\u001b[38;5;250m \u001b[39m\u001b[34mapply\u001b[39m(\n\u001b[32m   4801\u001b[39m     \u001b[38;5;28mself\u001b[39m,\n\u001b[32m   4802\u001b[39m     func: AggFuncType,\n\u001b[32m   (...)\u001b[39m\u001b[32m   4807\u001b[39m     **kwargs,\n\u001b[32m   4808\u001b[39m ) -> DataFrame | Series:\n\u001b[32m   4809\u001b[39m \u001b[38;5;250m    \u001b[39m\u001b[33;03m\"\"\"\u001b[39;00m\n\u001b[32m   4810\u001b[39m \u001b[33;03m    Invoke function on values of Series.\u001b[39;00m\n\u001b[32m   4811\u001b[39m \n\u001b[32m   (...)\u001b[39m\u001b[32m   4926\u001b[39m \u001b[33;03m    dtype: float64\u001b[39;00m\n\u001b[32m   4927\u001b[39m \u001b[33;03m    \"\"\"\u001b[39;00m\n\u001b[32m   4928\u001b[39m     \u001b[38;5;28;01mreturn\u001b[39;00m \u001b[43mSeriesApply\u001b[49m\u001b[43m(\u001b[49m\n\u001b[32m   4929\u001b[39m \u001b[43m        \u001b[49m\u001b[38;5;28;43mself\u001b[39;49m\u001b[43m,\u001b[49m\n\u001b[32m   4930\u001b[39m \u001b[43m        \u001b[49m\u001b[43mfunc\u001b[49m\u001b[43m,\u001b[49m\n\u001b[32m   4931\u001b[39m \u001b[43m        \u001b[49m\u001b[43mconvert_dtype\u001b[49m\u001b[43m=\u001b[49m\u001b[43mconvert_dtype\u001b[49m\u001b[43m,\u001b[49m\n\u001b[32m   4932\u001b[39m \u001b[43m        \u001b[49m\u001b[43mby_row\u001b[49m\u001b[43m=\u001b[49m\u001b[43mby_row\u001b[49m\u001b[43m,\u001b[49m\n\u001b[32m   4933\u001b[39m \u001b[43m        \u001b[49m\u001b[43margs\u001b[49m\u001b[43m=\u001b[49m\u001b[43margs\u001b[49m\u001b[43m,\u001b[49m\n\u001b[32m   4934\u001b[39m \u001b[43m        \u001b[49m\u001b[43mkwargs\u001b[49m\u001b[43m=\u001b[49m\u001b[43mkwargs\u001b[49m\u001b[43m,\u001b[49m\n\u001b[32m-> \u001b[39m\u001b[32m4935\u001b[39m \u001b[43m    \u001b[49m\u001b[43m)\u001b[49m\u001b[43m.\u001b[49m\u001b[43mapply\u001b[49m\u001b[43m(\u001b[49m\u001b[43m)\u001b[49m\n",
      "\u001b[36mFile \u001b[39m\u001b[32m~/myenv/lib/python3.12/site-packages/pandas/core/apply.py:1422\u001b[39m, in \u001b[36mSeriesApply.apply\u001b[39m\u001b[34m(self)\u001b[39m\n\u001b[32m   1419\u001b[39m     \u001b[38;5;28;01mreturn\u001b[39;00m \u001b[38;5;28mself\u001b[39m.apply_compat()\n\u001b[32m   1421\u001b[39m \u001b[38;5;66;03m# self.func is Callable\u001b[39;00m\n\u001b[32m-> \u001b[39m\u001b[32m1422\u001b[39m \u001b[38;5;28;01mreturn\u001b[39;00m \u001b[38;5;28;43mself\u001b[39;49m\u001b[43m.\u001b[49m\u001b[43mapply_standard\u001b[49m\u001b[43m(\u001b[49m\u001b[43m)\u001b[49m\n",
      "\u001b[36mFile \u001b[39m\u001b[32m~/myenv/lib/python3.12/site-packages/pandas/core/apply.py:1502\u001b[39m, in \u001b[36mSeriesApply.apply_standard\u001b[39m\u001b[34m(self)\u001b[39m\n\u001b[32m   1496\u001b[39m \u001b[38;5;66;03m# row-wise access\u001b[39;00m\n\u001b[32m   1497\u001b[39m \u001b[38;5;66;03m# apply doesn't have a `na_action` keyword and for backward compat reasons\u001b[39;00m\n\u001b[32m   1498\u001b[39m \u001b[38;5;66;03m# we need to give `na_action=\"ignore\"` for categorical data.\u001b[39;00m\n\u001b[32m   1499\u001b[39m \u001b[38;5;66;03m# TODO: remove the `na_action=\"ignore\"` when that default has been changed in\u001b[39;00m\n\u001b[32m   1500\u001b[39m \u001b[38;5;66;03m#  Categorical (GH51645).\u001b[39;00m\n\u001b[32m   1501\u001b[39m action = \u001b[33m\"\u001b[39m\u001b[33mignore\u001b[39m\u001b[33m\"\u001b[39m \u001b[38;5;28;01mif\u001b[39;00m \u001b[38;5;28misinstance\u001b[39m(obj.dtype, CategoricalDtype) \u001b[38;5;28;01melse\u001b[39;00m \u001b[38;5;28;01mNone\u001b[39;00m\n\u001b[32m-> \u001b[39m\u001b[32m1502\u001b[39m mapped = \u001b[43mobj\u001b[49m\u001b[43m.\u001b[49m\u001b[43m_map_values\u001b[49m\u001b[43m(\u001b[49m\n\u001b[32m   1503\u001b[39m \u001b[43m    \u001b[49m\u001b[43mmapper\u001b[49m\u001b[43m=\u001b[49m\u001b[43mcurried\u001b[49m\u001b[43m,\u001b[49m\u001b[43m \u001b[49m\u001b[43mna_action\u001b[49m\u001b[43m=\u001b[49m\u001b[43maction\u001b[49m\u001b[43m,\u001b[49m\u001b[43m \u001b[49m\u001b[43mconvert\u001b[49m\u001b[43m=\u001b[49m\u001b[38;5;28;43mself\u001b[39;49m\u001b[43m.\u001b[49m\u001b[43mconvert_dtype\u001b[49m\n\u001b[32m   1504\u001b[39m \u001b[43m\u001b[49m\u001b[43m)\u001b[49m\n\u001b[32m   1506\u001b[39m \u001b[38;5;28;01mif\u001b[39;00m \u001b[38;5;28mlen\u001b[39m(mapped) \u001b[38;5;129;01mand\u001b[39;00m \u001b[38;5;28misinstance\u001b[39m(mapped[\u001b[32m0\u001b[39m], ABCSeries):\n\u001b[32m   1507\u001b[39m     \u001b[38;5;66;03m# GH#43986 Need to do list(mapped) in order to get treated as nested\u001b[39;00m\n\u001b[32m   1508\u001b[39m     \u001b[38;5;66;03m#  See also GH#25959 regarding EA support\u001b[39;00m\n\u001b[32m   1509\u001b[39m     \u001b[38;5;28;01mreturn\u001b[39;00m obj._constructor_expanddim(\u001b[38;5;28mlist\u001b[39m(mapped), index=obj.index)\n",
      "\u001b[36mFile \u001b[39m\u001b[32m~/myenv/lib/python3.12/site-packages/pandas/core/base.py:925\u001b[39m, in \u001b[36mIndexOpsMixin._map_values\u001b[39m\u001b[34m(self, mapper, na_action, convert)\u001b[39m\n\u001b[32m    922\u001b[39m \u001b[38;5;28;01mif\u001b[39;00m \u001b[38;5;28misinstance\u001b[39m(arr, ExtensionArray):\n\u001b[32m    923\u001b[39m     \u001b[38;5;28;01mreturn\u001b[39;00m arr.map(mapper, na_action=na_action)\n\u001b[32m--> \u001b[39m\u001b[32m925\u001b[39m \u001b[38;5;28;01mreturn\u001b[39;00m \u001b[43malgorithms\u001b[49m\u001b[43m.\u001b[49m\u001b[43mmap_array\u001b[49m\u001b[43m(\u001b[49m\u001b[43marr\u001b[49m\u001b[43m,\u001b[49m\u001b[43m \u001b[49m\u001b[43mmapper\u001b[49m\u001b[43m,\u001b[49m\u001b[43m \u001b[49m\u001b[43mna_action\u001b[49m\u001b[43m=\u001b[49m\u001b[43mna_action\u001b[49m\u001b[43m,\u001b[49m\u001b[43m \u001b[49m\u001b[43mconvert\u001b[49m\u001b[43m=\u001b[49m\u001b[43mconvert\u001b[49m\u001b[43m)\u001b[49m\n",
      "\u001b[36mFile \u001b[39m\u001b[32m~/myenv/lib/python3.12/site-packages/pandas/core/algorithms.py:1743\u001b[39m, in \u001b[36mmap_array\u001b[39m\u001b[34m(arr, mapper, na_action, convert)\u001b[39m\n\u001b[32m   1741\u001b[39m values = arr.astype(\u001b[38;5;28mobject\u001b[39m, copy=\u001b[38;5;28;01mFalse\u001b[39;00m)\n\u001b[32m   1742\u001b[39m \u001b[38;5;28;01mif\u001b[39;00m na_action \u001b[38;5;129;01mis\u001b[39;00m \u001b[38;5;28;01mNone\u001b[39;00m:\n\u001b[32m-> \u001b[39m\u001b[32m1743\u001b[39m     \u001b[38;5;28;01mreturn\u001b[39;00m \u001b[43mlib\u001b[49m\u001b[43m.\u001b[49m\u001b[43mmap_infer\u001b[49m\u001b[43m(\u001b[49m\u001b[43mvalues\u001b[49m\u001b[43m,\u001b[49m\u001b[43m \u001b[49m\u001b[43mmapper\u001b[49m\u001b[43m,\u001b[49m\u001b[43m \u001b[49m\u001b[43mconvert\u001b[49m\u001b[43m=\u001b[49m\u001b[43mconvert\u001b[49m\u001b[43m)\u001b[49m\n\u001b[32m   1744\u001b[39m \u001b[38;5;28;01melse\u001b[39;00m:\n\u001b[32m   1745\u001b[39m     \u001b[38;5;28;01mreturn\u001b[39;00m lib.map_infer_mask(\n\u001b[32m   1746\u001b[39m         values, mapper, mask=isna(values).view(np.uint8), convert=convert\n\u001b[32m   1747\u001b[39m     )\n",
      "\u001b[36mFile \u001b[39m\u001b[32mpandas/_libs/lib.pyx:2999\u001b[39m, in \u001b[36mpandas._libs.lib.map_infer\u001b[39m\u001b[34m()\u001b[39m\n",
      "\u001b[36mCell\u001b[39m\u001b[36m \u001b[39m\u001b[32mIn[3]\u001b[39m\u001b[32m, line 13\u001b[39m, in \u001b[36mextract_skills\u001b[39m\u001b[34m(text)\u001b[39m\n\u001b[32m     11\u001b[39m found = []\n\u001b[32m     12\u001b[39m \u001b[38;5;28;01mfor\u001b[39;00m skill \u001b[38;5;129;01min\u001b[39;00m skill_set:\n\u001b[32m---> \u001b[39m\u001b[32m13\u001b[39m     \u001b[38;5;28;01mif\u001b[39;00m \u001b[43mre\u001b[49m.search(\u001b[33mrf\u001b[39m\u001b[33m\"\u001b[39m\u001b[33m\\\u001b[39m\u001b[33mb\u001b[39m\u001b[38;5;132;01m{\u001b[39;00mskill\u001b[38;5;132;01m}\u001b[39;00m\u001b[33m\\\u001b[39m\u001b[33mb\u001b[39m\u001b[33m\"\u001b[39m, text, re.IGNORECASE):\n\u001b[32m     14\u001b[39m         found.append(skill)\n\u001b[32m     15\u001b[39m \u001b[38;5;28;01mreturn\u001b[39;00m found\n",
      "\u001b[31mNameError\u001b[39m: name 're' is not defined"
     ]
    }
   ],
   "source": [
    "skill_set = [\n",
    "    \"Python\", \"SQL\", \"R\", \"Java\", \"C++\", \"JavaScript\", \"HTML\", \"CSS\", \n",
    "    \"Power BI\", \"Tableau\", \"Excel\", \"AWS\", \"Azure\", \"GCP\", \"Hadoop\", \n",
    "    \"Spark\", \"Machine Learning\", \"Deep Learning\", \"NLP\", \"TensorFlow\", \n",
    "    \"PyTorch\", \"Docker\", \"Kubernetes\"\n",
    "]\n",
    "\n",
    "def extract_skills(text):\n",
    "    if not isinstance(text, str):  # Skip NaN or non-string rows\n",
    "        return []\n",
    "    found = []\n",
    "    for skill in skill_set:\n",
    "        if re.search(rf\"\\b{skill}\\b\", text, re.IGNORECASE):\n",
    "            found.append(skill)\n",
    "    return found\n",
    "\n",
    "# Apply safely\n",
    "df[\"skills_list\"] = df[\"description\"].apply(extract_skills)\n",
    "\n",
    "print(df[[\"description\", \"skills_list\"]].head(10))      "
   ]
  },
  {
   "cell_type": "markdown",
   "id": "0bf4c523-23fe-4b5c-b4da-bd0f119532a4",
   "metadata": {},
   "source": [
    "# Step 1: Build a clean skills dictionary\n"
   ]
  },
  {
   "cell_type": "markdown",
   "id": "2a710dbd-4046-49a1-a2d3-b866e4f5d6fa",
   "metadata": {},
   "source": [
    "# Step 2: Extract skills per job description"
   ]
  },
  {
   "cell_type": "code",
   "execution_count": 4,
   "id": "ea834808-b6d4-4541-9582-320e6069f5bf",
   "metadata": {},
   "outputs": [],
   "source": [
    "!git add .\n",
    "    "
   ]
  },
  {
   "cell_type": "code",
   "execution_count": 5,
   "id": "4a4bfc17-2125-45da-a7ab-3b8a441ba7f8",
   "metadata": {},
   "outputs": [
    {
     "name": "stdout",
     "output_type": "stream",
     "text": [
      "[main f3596a1] Day-4\n",
      " 2 files changed, 317 insertions(+), 58 deletions(-)\n",
      " create mode 100644 Week -1/day_4.ipynb\n"
     ]
    }
   ],
   "source": [
    "!git commit -m \"Day-4\""
   ]
  },
  {
   "cell_type": "code",
   "execution_count": 6,
   "id": "b30abac0-f081-4430-9190-7db63edb090e",
   "metadata": {},
   "outputs": [],
   "source": [
    "df.to_csv(\"day3_cleaned.csv\", index=False)"
   ]
  },
  {
   "cell_type": "code",
   "execution_count": 7,
   "id": "fb72f5f1-f25e-4737-b6a4-e77b8c93560f",
   "metadata": {},
   "outputs": [],
   "source": [
    "!git add .\n",
    "    "
   ]
  },
  {
   "cell_type": "code",
   "execution_count": 8,
   "id": "4d6a3155-2272-405f-9ccb-6d65e9735c7b",
   "metadata": {},
   "outputs": [
    {
     "name": "stdout",
     "output_type": "stream",
     "text": [
      "On branch main\n",
      "Your branch is ahead of 'origin/main' by 1 commit.\n",
      "  (use \"git push\" to publish your local commits)\n",
      "\n",
      "Changes not staged for commit:\n",
      "  (use \"git add/rm <file>...\" to update what will be committed)\n",
      "  (use \"git restore <file>...\" to discard changes in working directory)\n",
      "\t\u001b[31mdeleted:    ../.ipynb_checkpoints/WEEK_1-checkpoint.ipynb\u001b[m\n",
      "\t\u001b[31mdeleted:    ../WEEK_1.ipynb\u001b[m\n",
      "\n",
      "no changes added to commit (use \"git add\" and/or \"git commit -a\")\n"
     ]
    }
   ],
   "source": [
    "!git commit -m \"Export data-set\""
   ]
  },
  {
   "cell_type": "code",
   "execution_count": 9,
   "id": "c219ce55-a578-440c-ae58-a85231cda324",
   "metadata": {},
   "outputs": [
    {
     "name": "stdout",
     "output_type": "stream",
     "text": [
      "Enumerating objects: 8, done.\n",
      "Counting objects: 100% (8/8), done.\n",
      "Delta compression using up to 12 threads\n",
      "Compressing objects: 100% (5/5), done.\n",
      "Writing objects: 100% (5/5), 3.61 KiB | 3.61 MiB/s, done.\n",
      "Total 5 (delta 3), reused 0 (delta 0), pack-reused 0\n",
      "remote: Resolving deltas: 100% (3/3), completed with 3 local objects.\u001b[K\n",
      "To https://github.com/palaknagar-07/CareerPlus.git\n",
      "   9d1cf9d..f3596a1  main -> main\n"
     ]
    }
   ],
   "source": [
    "!git push\n"
   ]
  },
  {
   "cell_type": "code",
   "execution_count": 10,
   "id": "fb3c203e-f0fb-442b-9544-5d9eef4db89b",
   "metadata": {},
   "outputs": [
    {
     "name": "stdout",
     "output_type": "stream",
     "text": [
      "On branch main\n",
      "Your branch is up to date with 'origin/main'.\n",
      "\n",
      "Changes not staged for commit:\n",
      "  (use \"git add/rm <file>...\" to update what will be committed)\n",
      "  (use \"git restore <file>...\" to discard changes in working directory)\n",
      "\t\u001b[31mdeleted:    ../.ipynb_checkpoints/WEEK_1-checkpoint.ipynb\u001b[m\n",
      "\t\u001b[31mdeleted:    ../WEEK_1.ipynb\u001b[m\n",
      "\n",
      "no changes added to commit (use \"git add\" and/or \"git commit -a\")\n"
     ]
    }
   ],
   "source": [
    "!git status\n"
   ]
  },
  {
   "cell_type": "code",
   "execution_count": 11,
   "id": "b9952975-2e94-4e95-9cbc-060ad243848e",
   "metadata": {},
   "outputs": [
    {
     "name": "stdout",
     "output_type": "stream",
     "text": [
      "Hello\n"
     ]
    }
   ],
   "source": [
    "print(\"Hello\")"
   ]
  },
  {
   "cell_type": "code",
   "execution_count": null,
   "id": "8a8a38be-173f-4772-9b07-9660e6966fb3",
   "metadata": {},
   "outputs": [],
   "source": []
  },
  {
   "cell_type": "code",
   "execution_count": null,
   "id": "eca14d25-8717-48e8-86e1-bca431d58bd4",
   "metadata": {},
   "outputs": [],
   "source": []
  }
 ],
 "metadata": {
  "kernelspec": {
   "display_name": "Python 3 (ipykernel)",
   "language": "python",
   "name": "python3"
  },
  "language_info": {
   "codemirror_mode": {
    "name": "ipython",
    "version": 3
   },
   "file_extension": ".py",
   "mimetype": "text/x-python",
   "name": "python",
   "nbconvert_exporter": "python",
   "pygments_lexer": "ipython3",
   "version": "3.12.11"
  }
 },
 "nbformat": 4,
 "nbformat_minor": 5
}
