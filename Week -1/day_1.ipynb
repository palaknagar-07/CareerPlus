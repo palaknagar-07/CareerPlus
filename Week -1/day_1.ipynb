{
 "cells": [
  {
   "cell_type": "markdown",
   "id": "853e6acd-d2d9-4192-96de-c926df925f42",
   "metadata": {},
   "source": [
    "# Data Analysis for Career+"
   ]
  },
  {
   "cell_type": "markdown",
   "id": "fdd1f7b6-2fc1-454a-a79a-f8e54985b6be",
   "metadata": {},
   "source": [
    "# Day 1"
   ]
  },
  {
   "cell_type": "code",
   "execution_count": 1,
   "id": "a2329495-f3ab-4bb0-90b2-a3e12b4bcecf",
   "metadata": {},
   "outputs": [],
   "source": [
    "import pandas as pd\n",
    "import numpy as np\n",
    "import matplotlib.pyplot as plt"
   ]
  },
  {
   "cell_type": "code",
   "execution_count": 2,
   "id": "cf38761f-784c-4c3e-b664-cf88c8e53e41",
   "metadata": {
    "scrolled": true
   },
   "outputs": [
    {
     "name": "stdout",
     "output_type": "stream",
     "text": [
      "                                      company  \\\n",
      "0                            MM Media Pvt Ltd   \n",
      "1                          find live infotech   \n",
      "2         Softtech Career Infosystem Pvt. Ltd   \n",
      "3                      Onboard HRServices LLP   \n",
      "4  Spire Technologies and Solutions Pvt. Ltd.   \n",
      "\n",
      "                                           education   experience  \\\n",
      "0  UG: B.Tech/B.E. - Any Specialization PG:Any Po...    0 - 1 yrs   \n",
      "1  UG: B.Tech/B.E. - Any Specialization PG:MBA/PG...    0 - 0 yrs   \n",
      "2  UG: Any Graduate - Any Specialization PG:Any P...    4 - 8 yrs   \n",
      "3  UG: Any Graduate - Any Specialization PG:CA Do...  11 - 15 yrs   \n",
      "4  UG: B.Tech/B.E. - Any Specialization PG:Any Po...    6 - 8 yrs   \n",
      "\n",
      "                                   industry  \\\n",
      "0          Media / Entertainment / Internet   \n",
      "1  Advertising / PR / MR / Event Management   \n",
      "2           IT-Software / Software Services   \n",
      "3    Banking / Financial Services / Broking   \n",
      "4           IT-Software / Software Services   \n",
      "\n",
      "                                      jobdescription         jobid  \\\n",
      "0  Job Description   Send me Jobs like this Quali...  210516002263   \n",
      "1  Job Description   Send me Jobs like this Quali...  210516002391   \n",
      "2  Job Description   Send me Jobs like this - as ...  101016900534   \n",
      "3  Job Description   Send me Jobs like this - Inv...   81016900536   \n",
      "4  Job Description   Send me Jobs like this Pleas...  120916002122   \n",
      "\n",
      "                                 joblocation_address  \\\n",
      "0                                            Chennai   \n",
      "1                                            Chennai   \n",
      "2                                          Bengaluru   \n",
      "3  Mumbai, Bengaluru, Kolkata, Chennai, Coimbator...   \n",
      "4                                          Bengaluru   \n",
      "\n",
      "                                   jobtitle  numberofpositions  \\\n",
      "0  Walkin Data Entry Operator (night Shift)                NaN   \n",
      "1        Work Based Onhome Based Part Time.               60.0   \n",
      "2                    Pl/sql Developer - SQL                NaN   \n",
      "3    Manager/ad/partner - Indirect Tax - CA                NaN   \n",
      "4           JAVA Technical Lead (6-8 yrs) -                4.0   \n",
      "\n",
      "                          payrate                   postdate site_name  \\\n",
      "0         1,50,000 - 2,25,000 P.A  2016-05-21 19:30:00 +0000       NaN   \n",
      "1  1,50,000 - 2,50,000 P.A. 20000  2016-05-21 19:30:00 +0000       NaN   \n",
      "2      Not Disclosed by Recruiter  2016-10-13 16:20:55 +0000       NaN   \n",
      "3      Not Disclosed by Recruiter  2016-10-13 16:20:55 +0000       NaN   \n",
      "4      Not Disclosed by Recruiter  2016-10-13 16:20:55 +0000       NaN   \n",
      "\n",
      "                                  skills                           uniq_id  \n",
      "0                                   ITES  43b19632647068535437c774b6ca6cf8  \n",
      "1                              Marketing  d4c72325e57f89f364812b5ed5a795f0  \n",
      "2  IT Software - Application Programming  c47df6f4cfdf5b46f1fd713ba61b9eba  \n",
      "3                               Accounts  115d28f140f694dd1cc61c53d03c66ae  \n",
      "4  IT Software - Application Programming  a12553fc03bc7bcced8b1bb8963f97b4  \n",
      "<class 'pandas.core.frame.DataFrame'>\n",
      "RangeIndex: 22000 entries, 0 to 21999\n",
      "Data columns (total 14 columns):\n",
      " #   Column               Non-Null Count  Dtype  \n",
      "---  ------               --------------  -----  \n",
      " 0   company              21996 non-null  object \n",
      " 1   education            20004 non-null  object \n",
      " 2   experience           21996 non-null  object \n",
      " 3   industry             21995 non-null  object \n",
      " 4   jobdescription       21996 non-null  object \n",
      " 5   jobid                22000 non-null  int64  \n",
      " 6   joblocation_address  21499 non-null  object \n",
      " 7   jobtitle             22000 non-null  object \n",
      " 8   numberofpositions    4464 non-null   float64\n",
      " 9   payrate              21903 non-null  object \n",
      " 10  postdate             21977 non-null  object \n",
      " 11  site_name            3987 non-null   object \n",
      " 12  skills               21472 non-null  object \n",
      " 13  uniq_id              22000 non-null  object \n",
      "dtypes: float64(1), int64(1), object(12)\n",
      "memory usage: 2.3+ MB\n",
      "None\n"
     ]
    }
   ],
   "source": [
    "\n",
    "path = \"../Dataset/naukri_com-job_sample.csv\"\n",
    "df = pd.read_csv(path)\n",
    "print(df.head())\n",
    "print(df.info())"
   ]
  },
  {
   "cell_type": "code",
   "execution_count": 3,
   "id": "c3b4cb1a-b1e5-4c51-a410-eddbc95a40bb",
   "metadata": {
    "jupyter": {
     "source_hidden": true
    }
   },
   "outputs": [],
   "source": [
    "df.rename(columns = {'joblocation_address': 'location',\n",
    "                    'jobtitle': 'job_title',\n",
    "                    'jobdescription': 'description',\n",
    "                    'numberofpositions': 'num_positions',\n",
    "                    'payrate': 'salary',\n",
    "                    'postdate': 'date_posted',\n",
    "                    'site_name': 'source',\n",
    "                    'uniq_id': 'id'}, inplace=True)"
   ]
  },
  {
   "cell_type": "code",
   "execution_count": 4,
   "id": "23ca5b00-7709-4583-b55a-48e1dd88a5cc",
   "metadata": {},
   "outputs": [
    {
     "data": {
      "text/html": [
       "<div>\n",
       "<style scoped>\n",
       "    .dataframe tbody tr th:only-of-type {\n",
       "        vertical-align: middle;\n",
       "    }\n",
       "\n",
       "    .dataframe tbody tr th {\n",
       "        vertical-align: top;\n",
       "    }\n",
       "\n",
       "    .dataframe thead th {\n",
       "        text-align: right;\n",
       "    }\n",
       "</style>\n",
       "<table border=\"1\" class=\"dataframe\">\n",
       "  <thead>\n",
       "    <tr style=\"text-align: right;\">\n",
       "      <th></th>\n",
       "      <th>jobid</th>\n",
       "      <th>num_positions</th>\n",
       "    </tr>\n",
       "  </thead>\n",
       "  <tbody>\n",
       "    <tr>\n",
       "      <th>count</th>\n",
       "      <td>2.200000e+04</td>\n",
       "      <td>4464.000000</td>\n",
       "    </tr>\n",
       "    <tr>\n",
       "      <th>mean</th>\n",
       "      <td>1.561171e+11</td>\n",
       "      <td>45.116935</td>\n",
       "    </tr>\n",
       "    <tr>\n",
       "      <th>std</th>\n",
       "      <td>9.423956e+10</td>\n",
       "      <td>186.197193</td>\n",
       "    </tr>\n",
       "    <tr>\n",
       "      <th>min</th>\n",
       "      <td>1.011600e+10</td>\n",
       "      <td>1.000000</td>\n",
       "    </tr>\n",
       "    <tr>\n",
       "      <th>25%</th>\n",
       "      <td>6.121650e+10</td>\n",
       "      <td>2.000000</td>\n",
       "    </tr>\n",
       "    <tr>\n",
       "      <th>50%</th>\n",
       "      <td>1.602169e+11</td>\n",
       "      <td>4.000000</td>\n",
       "    </tr>\n",
       "    <tr>\n",
       "      <th>75%</th>\n",
       "      <td>2.502166e+11</td>\n",
       "      <td>10.000000</td>\n",
       "    </tr>\n",
       "    <tr>\n",
       "      <th>max</th>\n",
       "      <td>3.112155e+11</td>\n",
       "      <td>2000.000000</td>\n",
       "    </tr>\n",
       "  </tbody>\n",
       "</table>\n",
       "</div>"
      ],
      "text/plain": [
       "              jobid  num_positions\n",
       "count  2.200000e+04    4464.000000\n",
       "mean   1.561171e+11      45.116935\n",
       "std    9.423956e+10     186.197193\n",
       "min    1.011600e+10       1.000000\n",
       "25%    6.121650e+10       2.000000\n",
       "50%    1.602169e+11       4.000000\n",
       "75%    2.502166e+11      10.000000\n",
       "max    3.112155e+11    2000.000000"
      ]
     },
     "execution_count": 4,
     "metadata": {},
     "output_type": "execute_result"
    }
   ],
   "source": [
    "numerical = [\"jobid\", \"num_positions\"]\n",
    "df[numerical].describe()"
   ]
  },
  {
   "cell_type": "code",
   "execution_count": 5,
   "id": "f9f5d25f-9745-448b-9022-e0dd228896fa",
   "metadata": {},
   "outputs": [
    {
     "name": "stdout",
     "output_type": "stream",
     "text": [
      "(22000, 14)\n"
     ]
    }
   ],
   "source": [
    "print(df.shape)"
   ]
  },
  {
   "cell_type": "code",
   "execution_count": 6,
   "id": "8171ca38-2e42-4d5b-8a3e-60423f975670",
   "metadata": {},
   "outputs": [
    {
     "name": "stdout",
     "output_type": "stream",
     "text": [
      "Empty DataFrame\n",
      "Columns: [company, education, experience, industry, description, jobid, location, job_title, num_positions, salary, date_posted, source, skills, id]\n",
      "Index: []\n"
     ]
    }
   ],
   "source": [
    "duplicateRows = df[df.duplicated()]\n",
    "print(duplicateRows)"
   ]
  },
  {
   "cell_type": "code",
   "execution_count": 7,
   "id": "62032da9-7b48-4dd5-a025-f5cbd5018efe",
   "metadata": {
    "scrolled": true
   },
   "outputs": [
    {
     "name": "stdout",
     "output_type": "stream",
     "text": [
      "Missing values per coloumn:\n",
      " company              4\n",
      "education         1996\n",
      "experience           4\n",
      "industry             5\n",
      "description          4\n",
      "jobid                0\n",
      "location           501\n",
      "job_title            0\n",
      "num_positions    17536\n",
      "salary              97\n",
      "date_posted         23\n",
      "source           18013\n",
      "skills             528\n",
      "id                   0\n",
      "dtype: int64\n"
     ]
    }
   ],
   "source": [
    "missing_values = df.isnull().sum()\n",
    "print(\"Missing values per coloumn:\\n\",missing_values)"
   ]
  },
  {
   "cell_type": "code",
   "execution_count": 8,
   "id": "034418fc-7910-49b5-8aaa-359968fbd3d7",
   "metadata": {},
   "outputs": [
    {
     "name": "stdout",
     "output_type": "stream",
     "text": [
      "Missing percentage of values per coloumn:\n",
      " company           0.018182\n",
      "education         9.072727\n",
      "experience        0.018182\n",
      "industry          0.022727\n",
      "description       0.018182\n",
      "jobid             0.000000\n",
      "location          2.277273\n",
      "job_title         0.000000\n",
      "num_positions    79.709091\n",
      "salary            0.440909\n",
      "date_posted       0.104545\n",
      "source           81.877273\n",
      "skills            2.400000\n",
      "id                0.000000\n",
      "dtype: float64\n"
     ]
    }
   ],
   "source": [
    "missing_percent = (df.isnull().sum()) / len(df)*100\n",
    "print(\"Missing percentage of values per coloumn:\\n\",missing_percent)"
   ]
  },
  {
   "cell_type": "markdown",
   "id": "9217fb42-a47b-42cf-9850-461c8937a859",
   "metadata": {},
   "source": [
    "#### we have some columns with very large missing data, e.g., education (1996 missing), num_positions (17,536 missing), source (18,013 missing).\n"
   ]
  },
  {
   "cell_type": "markdown",
   "id": "3b7be0f1-9818-4f8b-8be0-be8b2265d8d2",
   "metadata": {},
   "source": [
    "Columns with very few missing values (like company, experience, industry, description):You can drop rows or fill with placeholders like \"Unknown\":\n"
   ]
  },
  {
   "cell_type": "code",
   "execution_count": 9,
   "id": "c9d3b6b7-5e76-4e34-9080-dd6a88baab2b",
   "metadata": {},
   "outputs": [
    {
     "name": "stderr",
     "output_type": "stream",
     "text": [
      "/var/folders/67/f0htb9ms0fzfnqpg6vwskkm40000gn/T/ipykernel_71486/441080095.py:1: FutureWarning: A value is trying to be set on a copy of a DataFrame or Series through chained assignment using an inplace method.\n",
      "The behavior will change in pandas 3.0. This inplace method will never work because the intermediate object on which we are setting values always behaves as a copy.\n",
      "\n",
      "For example, when doing 'df[col].method(value, inplace=True)', try using 'df.method({col: value}, inplace=True)' or df[col] = df[col].method(value) instead, to perform the operation inplace on the original object.\n",
      "\n",
      "\n",
      "  df[\"company\"].fillna(\"Unknown\", inplace= True)\n",
      "/var/folders/67/f0htb9ms0fzfnqpg6vwskkm40000gn/T/ipykernel_71486/441080095.py:2: FutureWarning: A value is trying to be set on a copy of a DataFrame or Series through chained assignment using an inplace method.\n",
      "The behavior will change in pandas 3.0. This inplace method will never work because the intermediate object on which we are setting values always behaves as a copy.\n",
      "\n",
      "For example, when doing 'df[col].method(value, inplace=True)', try using 'df.method({col: value}, inplace=True)' or df[col] = df[col].method(value) instead, to perform the operation inplace on the original object.\n",
      "\n",
      "\n",
      "  df[\"experience\"].fillna(\"Not specified\", inplace= True)\n",
      "/var/folders/67/f0htb9ms0fzfnqpg6vwskkm40000gn/T/ipykernel_71486/441080095.py:3: FutureWarning: A value is trying to be set on a copy of a DataFrame or Series through chained assignment using an inplace method.\n",
      "The behavior will change in pandas 3.0. This inplace method will never work because the intermediate object on which we are setting values always behaves as a copy.\n",
      "\n",
      "For example, when doing 'df[col].method(value, inplace=True)', try using 'df.method({col: value}, inplace=True)' or df[col] = df[col].method(value) instead, to perform the operation inplace on the original object.\n",
      "\n",
      "\n",
      "  df[\"industry\"].fillna(\"Other\", inplace= True)\n",
      "/var/folders/67/f0htb9ms0fzfnqpg6vwskkm40000gn/T/ipykernel_71486/441080095.py:4: FutureWarning: A value is trying to be set on a copy of a DataFrame or Series through chained assignment using an inplace method.\n",
      "The behavior will change in pandas 3.0. This inplace method will never work because the intermediate object on which we are setting values always behaves as a copy.\n",
      "\n",
      "For example, when doing 'df[col].method(value, inplace=True)', try using 'df.method({col: value}, inplace=True)' or df[col] = df[col].method(value) instead, to perform the operation inplace on the original object.\n",
      "\n",
      "\n",
      "  df[\"description\"].fillna(\"No description\", inplace= True)\n"
     ]
    }
   ],
   "source": [
    "df[\"company\"].fillna(\"Unknown\", inplace= True)\n",
    "df[\"experience\"].fillna(\"Not specified\", inplace= True)\n",
    "df[\"industry\"].fillna(\"Other\", inplace= True)\n",
    "df[\"description\"].fillna(\"No description\", inplace= True)"
   ]
  },
  {
   "cell_type": "code",
   "execution_count": 10,
   "id": "33a114c4-56aa-4b58-a997-6af74377cade",
   "metadata": {
    "scrolled": true
   },
   "outputs": [
    {
     "name": "stdout",
     "output_type": "stream",
     "text": [
      "job_title\n",
      "Business Development Executive    93\n",
      "Business Development Manager      92\n",
      "Software Engineer                 81\n",
      "Project Manager                   67\n",
      "Android Developer                 65\n",
      "Web Designer                      61\n",
      "Content Writer                    59\n",
      "Senior Software Engineer          58\n",
      "Sales Executive                   56\n",
      "PHP Developer                     54\n",
      "Name: count, dtype: int64\n"
     ]
    }
   ],
   "source": [
    "job_title_counts = df[\"job_title\"].value_counts().head(10) \n",
    "print(job_title_counts)"
   ]
  },
  {
   "cell_type": "code",
   "execution_count": 11,
   "id": "aa4a7e67-51e0-472b-8ba6-faf31cd34d13",
   "metadata": {},
   "outputs": [
    {
     "data": {
      "image/png": "[encoded data removed]",
      "text/plain": [
       "<Figure size 800x500 with 1 Axes>"
      ]
     },
     "metadata": {},
     "output_type": "display_data"
    }
   ],
   "source": [
    "job_title_counts.plot(kind='bar', figsize=(8,5))\n",
    "plt.title(\"Top 10 Job Titles\")\n",
    "plt.xlabel(\"Job Title\")\n",
    "plt.ylabel(\"Count\")\n",
    "plt.show()\n"
   ]
  },
  {
   "cell_type": "code",
   "execution_count": 12,
   "id": "77d57f91-7df7-42b5-8489-196f1980eb18",
   "metadata": {},
   "outputs": [
    {
     "name": "stdout",
     "output_type": "stream",
     "text": [
      "0               1,50,000 - 2,25,000 P.A\n",
      "1        1,50,000 - 2,50,000 P.A. 20000\n",
      "2            Not Disclosed by Recruiter\n",
      "3            Not Disclosed by Recruiter\n",
      "4            Not Disclosed by Recruiter\n",
      "                      ...              \n",
      "21995        Not Disclosed by Recruiter\n",
      "21996          8,50,000 - 14,00,000 P.A\n",
      "21997        Not Disclosed by Recruiter\n",
      "21998        Not Disclosed by Recruiter\n",
      "21999         12,00,000 - 22,00,000 P.A\n",
      "Name: salary, Length: 22000, dtype: object\n"
     ]
    }
   ],
   "source": [
    "print(df[\"salary\"])"
   ]
  },
  {
   "cell_type": "code",
   "execution_count": 13,
   "id": "67514dc7-fc53-4151-80c9-9b73c5c86987",
   "metadata": {
    "scrolled": true
   },
   "outputs": [],
   "source": [
    "import re\n",
    "import numpy as np\n",
    "\n",
    "def parse_salary(s):\n",
    "    if pd.isna(s):\n",
    "        return np.nan\n",
    "\n",
    "    s_lower = s.lower()\n",
    "\n",
    "    # Skip non-numeric salaries\n",
    "    if \"not disclosed\" in s_lower or \"company norms\" in s_lower:\n",
    "        return np.nan\n",
    "\n",
    "    # Remove commas and extra spaces\n",
    "    s_clean = s_lower.replace(\",\", \"\").replace(\" \", \"\")\n",
    "\n",
    "    # Detect units\n",
    "    multiplier = 1\n",
    "    if \"lpa\" in s_clean:\n",
    "        multiplier = 100000\n",
    "        s_clean = s_clean.replace(\"lpa\", \"\")\n",
    "    elif \"k\" in s_clean:\n",
    "        multiplier = 1000\n",
    "        s_clean = s_clean.replace(\"k\", \"\")\n",
    "    elif \"permonth\" in s_clean or \"pm\" in s_clean:\n",
    "        multiplier = 12  # convert monthly to annual\n",
    "        s_clean = re.sub(r'permonth|pm', '', s_clean)\n",
    "\n",
    "    # Extract numbers\n",
    "    nums = re.findall(r'\\d+', s_clean)\n",
    "    nums = [int(n) for n in nums]\n",
    "\n",
    "    if len(nums) >= 2:\n",
    "        salary = np.mean(nums[:2]) * multiplier  # use first two numbers if range\n",
    "    elif len(nums) == 1:\n",
    "        salary = nums[0] * multiplier\n",
    "    else:\n",
    "        return np.nan\n",
    "\n",
    "    # Remove extreme outliers\n",
    "    if salary < 50000 or salary > 5000000:\n",
    "        return np.nan\n",
    "\n",
    "    return salary\n",
    "\n",
    "\n"
   ]
  },
  {
   "cell_type": "code",
   "execution_count": 14,
   "id": "10d2b93d-7c83-46e2-ad4b-e9fc724fb9e0",
   "metadata": {
    "scrolled": true
   },
   "outputs": [
    {
     "name": "stdout",
     "output_type": "stream",
     "text": [
      "                                               salary  salary_cleaned\n",
      "0                             1,50,000 - 2,25,000 P.A        187500.0\n",
      "1                      1,50,000 - 2,50,000 P.A. 20000        200000.0\n",
      "2                          Not Disclosed by Recruiter             NaN\n",
      "3                          Not Disclosed by Recruiter             NaN\n",
      "4                          Not Disclosed by Recruiter             NaN\n",
      "5                          Not Disclosed by Recruiter             NaN\n",
      "6                             3,00,000 - 6,50,000 P.A        475000.0\n",
      "7                          Not Disclosed by Recruiter             NaN\n",
      "8                             1,00,000 - 2,00,000 P.A        150000.0\n",
      "9                          Not Disclosed by Recruiter             NaN\n",
      "10                         Not Disclosed by Recruiter             NaN\n",
      "11                         Not Disclosed by Recruiter             NaN\n",
      "12                            1,75,000 - 2,50,000 P.A        212500.0\n",
      "13                         Not Disclosed by Recruiter             NaN\n",
      "14                         Not Disclosed by Recruiter             NaN\n",
      "15                         Not Disclosed by Recruiter             NaN\n",
      "16  1,00,000 - 2,00,000 P.A. incentives for achiev...        150000.0\n",
      "17                            1,00,000 - 5,00,000 P.A        300000.0\n",
      "18                         Not Disclosed by Recruiter             NaN\n",
      "19                         Not Disclosed by Recruiter             NaN\n",
      "count    4.428000e+03\n",
      "mean     6.224393e+05\n",
      "std      6.435397e+05\n",
      "min      5.000000e+04\n",
      "25%      2.500000e+05\n",
      "50%      3.875000e+05\n",
      "75%      7.500000e+05\n",
      "max      5.000000e+06\n",
      "Name: salary_cleaned, dtype: float64\n"
     ]
    }
   ],
   "source": [
    "df[\"salary_cleaned\"] = df[\"salary\"].apply(parse_salary)\n",
    "\n",
    "# Check results\n",
    "print(df[[\"salary\", \"salary_cleaned\"]].head(20))\n",
    "print(df[\"salary_cleaned\"].describe())\n"
   ]
  },
  {
   "cell_type": "markdown",
   "id": "8054dc12-06d2-4f1c-8196-1f0192b65b36",
   "metadata": {},
   "source": [
    "# Observations\n",
    "## Count = 4428\n",
    "These are the rows with valid numeric salaries.\n",
    "The remaining rows (~NaN) are undisclosed salaries.\n",
    "## Salary Range\n",
    "Min: 50,000 → entry-level jobs.\n",
    "Max: 5,000,000 → high-paying senior roles.\n",
    "Median: 387,500 → typical salary in the dataset.\n",
    "## Percentiles\n",
    "25% = 250,000, 50% = 387,500, 75% = 750,000 → shows most jobs fall in 2–7.5 LPA range.\n",
    "## Outliers removed \n",
    "No unrealistic huge numbers or tiny misparsed numbers."
   ]
  },
  {
   "cell_type": "code",
   "execution_count": 15,
   "id": "4e9be6a7-bf1f-4d86-b3dd-38f5d9ed8a09",
   "metadata": {
    "scrolled": true
   },
   "outputs": [
    {
     "data": {
      "image/png": "[encoded data removed]",
      "text/plain": [
       "<Figure size 1000x500 with 1 Axes>"
      ]
     },
     "metadata": {},
     "output_type": "display_data"
    }
   ],
   "source": [
    "# Histogram\n",
    "plt.figure(figsize=(10,5))\n",
    "plt.hist(df[\"salary_cleaned\"].dropna(), bins=50, color='skyblue')\n",
    "plt.title(\"Salary Distribution\")\n",
    "plt.xlabel(\"Salary (INR)\")\n",
    "plt.ylabel(\"Number of Jobs\")\n",
    "plt.show()"
   ]
  },
  {
   "cell_type": "code",
   "execution_count": 16,
   "id": "28a4633a-6f57-4d7e-9fb5-816f3cef06d5",
   "metadata": {},
   "outputs": [
    {
     "data": {
      "image/png": "[encoded data removed]",
      "text/plain": [
       "<Figure size 800x400 with 1 Axes>"
      ]
     },
     "metadata": {},
     "output_type": "display_data"
    }
   ],
   "source": [
    "plt.figure(figsize=(8,4))\n",
    "plt.boxplot(df[\"salary_cleaned\"].dropna(), vert=False)\n",
    "plt.title(\"Salary Boxplot\")\n",
    "plt.xlabel(\"Salary (INR)\")\n",
    "plt.show()\n"
   ]
  },
  {
   "cell_type": "code",
   "execution_count": 17,
   "id": "9e7e418c-22b1-4a46-9d5d-facafb92584b",
   "metadata": {},
   "outputs": [
    {
     "name": "stdout",
     "output_type": "stream",
     "text": [
      "job_title\n",
      "Mobile Solution Architects                                             5000000.0\n",
      "Unica                                                                  5000000.0\n",
      "DGM / GM - Govt Regulatory Affairs - Smartphone Giant - Delhi / NCR    5000000.0\n",
      "Immediate Job Opening -- Sharepoint                                    5000000.0\n",
      "Java Application Support Consultant                                    5000000.0\n",
      "Brand Director                                                         5000000.0\n",
      "Director Sales & Marketing                                             5000000.0\n",
      "Chief Technology Officer                                               5000000.0\n",
      "Business Head-industrial Consumable-mnc-chennai                        5000000.0\n",
      "Head - Digital Marketing & Strategy - Internet/online                  5000000.0\n",
      "Name: salary_cleaned, dtype: float64\n"
     ]
    }
   ],
   "source": [
    "# Group by job title\n",
    "job_salary = df.groupby('job_title')['salary_cleaned'].mean().sort_values(ascending=False)\n",
    "\n",
    "# Show top 10 highest paying jobs\n",
    "print(job_salary.head(10))"
   ]
  },
  {
   "cell_type": "code",
   "execution_count": 23,
   "id": "7644f908-a0cc-4641-985a-32fc3423b529",
   "metadata": {},
   "outputs": [
    {
     "data": {
      "image/png": "[encoded data removed]",
      "text/plain": [
       "<Figure size 1000x600 with 1 Axes>"
      ]
     },
     "metadata": {},
     "output_type": "display_data"
    }
   ],
   "source": [
    "top_jobs = df['job_title'].value_counts().head(15).index\n",
    "df_top = df[df['job_title'].isin(top_jobs)]\n",
    "\n",
    "# Average salary per job title\n",
    "avg_salary = df_top.groupby('job_title')['salary_cleaned'].mean().sort_values()\n",
    "\n",
    "# Bar plot\n",
    "plt.figure(figsize=(10,6))\n",
    "avg_salary.plot(kind='barh', color='skyblue')\n",
    "plt.xlabel(\"Average Salary (INR)\")\n",
    "plt.ylabel(\"Job Title\")\n",
    "plt.title(\"Average Salary by Job Title\")\n",
    "plt.show()"
   ]
  },
  {
   "cell_type": "code",
   "execution_count": 19,
   "id": "f5bac714-d130-4d9a-874b-67d2069d027b",
   "metadata": {},
   "outputs": [
    {
     "name": "stdout",
     "output_type": "stream",
     "text": [
      "location\n",
      "Bengaluru/Bangalore                                         3775\n",
      "Mumbai                                                      2348\n",
      "Bengaluru                                                   1453\n",
      "Hyderabad / Secunderabad                                    1246\n",
      "Chennai                                                     1204\n",
      "Hyderabad                                                    936\n",
      "Noida                                                        775\n",
      "Delhi                                                        763\n",
      "Gurgaon                                                      743\n",
      "Mumbai , Mumbai                                              514\n",
      "Delhi/NCR(National Capital Region)                           383\n",
      "Bengaluru/Bangalore , Bengaluru / Bangalore                  360\n",
      "Delhi , Delhi                                                324\n",
      "Noida , Noida/Greater Noida                                  313\n",
      "Gurgaon , Gurgaon                                            148\n",
      "Bengaluru/Bangalore , Chennai , Hyderabad / Secunderabad     118\n",
      "Ghaziabad                                                    102\n",
      "Bengaluru/Bangalore , Hyderabad / Secunderabad               101\n",
      "Bengaluru, Hyderabad                                          87\n",
      "Delhi/NCR(National Capital Region) , Gurgaon                  83\n",
      "Name: count, dtype: int64\n"
     ]
    }
   ],
   "source": [
    "location_counts = df[\"location\"].value_counts()\n",
    "print(location_counts.head(20))"
   ]
  },
  {
   "cell_type": "code",
   "execution_count": 107,
   "id": "9f5b988b-fb23-4da0-9b95-c1393eb4e2a8",
   "metadata": {},
   "outputs": [
    {
     "name": "stdout",
     "output_type": "stream",
     "text": [
      "Index(['company', 'education', 'experience', 'industry', 'description',\n",
      "       'jobid', 'location', 'job_title', 'num_positions', 'salary',\n",
      "       'date_posted', 'source', 'skills', 'id', 'salary_cleaned'],\n",
      "      dtype='object')\n"
     ]
    }
   ],
   "source": [
    "print(df.columns)\n"
   ]
  },
  {
   "cell_type": "raw",
   "id": "10f000c6-314b-417d-9e04-50c9eec1f13d",
   "metadata": {},
   "source": [
    "print(df)"
   ]
  },
  {
   "cell_type": "code",
   "execution_count": 21,
   "id": "4c9fcda3-a957-45bf-b5fa-2809f8da4dc7",
   "metadata": {},
   "outputs": [
    {
     "name": "stdout",
     "output_type": "stream",
     "text": [
      "                                      company  \\\n",
      "0                            MM Media Pvt Ltd   \n",
      "1                          find live infotech   \n",
      "2         Softtech Career Infosystem Pvt. Ltd   \n",
      "3                      Onboard HRServices LLP   \n",
      "4  Spire Technologies and Solutions Pvt. Ltd.   \n",
      "\n",
      "                                           education   experience  \\\n",
      "0  UG: B.Tech/B.E. - Any Specialization PG:Any Po...    0 - 1 yrs   \n",
      "1  UG: B.Tech/B.E. - Any Specialization PG:MBA/PG...    0 - 0 yrs   \n",
      "2  UG: Any Graduate - Any Specialization PG:Any P...    4 - 8 yrs   \n",
      "3  UG: Any Graduate - Any Specialization PG:CA Do...  11 - 15 yrs   \n",
      "4  UG: B.Tech/B.E. - Any Specialization PG:Any Po...    6 - 8 yrs   \n",
      "\n",
      "                                   industry  \\\n",
      "0          Media / Entertainment / Internet   \n",
      "1  Advertising / PR / MR / Event Management   \n",
      "2           IT-Software / Software Services   \n",
      "3    Banking / Financial Services / Broking   \n",
      "4           IT-Software / Software Services   \n",
      "\n",
      "                                         description         jobid  \\\n",
      "0  Job Description   Send me Jobs like this Quali...  210516002263   \n",
      "1  Job Description   Send me Jobs like this Quali...  210516002391   \n",
      "2  Job Description   Send me Jobs like this - as ...  101016900534   \n",
      "3  Job Description   Send me Jobs like this - Inv...   81016900536   \n",
      "4  Job Description   Send me Jobs like this Pleas...  120916002122   \n",
      "\n",
      "                                            location  \\\n",
      "0                                            Chennai   \n",
      "1                                            Chennai   \n",
      "2                                          Bengaluru   \n",
      "3  Mumbai, Bengaluru, Kolkata, Chennai, Coimbator...   \n",
      "4                                          Bengaluru   \n",
      "\n",
      "                                  job_title  num_positions  \\\n",
      "0  Walkin Data Entry Operator (night Shift)            NaN   \n",
      "1        Work Based Onhome Based Part Time.           60.0   \n",
      "2                    Pl/sql Developer - SQL            NaN   \n",
      "3    Manager/ad/partner - Indirect Tax - CA            NaN   \n",
      "4           JAVA Technical Lead (6-8 yrs) -            4.0   \n",
      "\n",
      "                           salary                date_posted source  \\\n",
      "0         1,50,000 - 2,25,000 P.A  2016-05-21 19:30:00 +0000    NaN   \n",
      "1  1,50,000 - 2,50,000 P.A. 20000  2016-05-21 19:30:00 +0000    NaN   \n",
      "2      Not Disclosed by Recruiter  2016-10-13 16:20:55 +0000    NaN   \n",
      "3      Not Disclosed by Recruiter  2016-10-13 16:20:55 +0000    NaN   \n",
      "4      Not Disclosed by Recruiter  2016-10-13 16:20:55 +0000    NaN   \n",
      "\n",
      "                                  skills                                id  \\\n",
      "0                                   ITES  43b19632647068535437c774b6ca6cf8   \n",
      "1                              Marketing  d4c72325e57f89f364812b5ed5a795f0   \n",
      "2  IT Software - Application Programming  c47df6f4cfdf5b46f1fd713ba61b9eba   \n",
      "3                               Accounts  115d28f140f694dd1cc61c53d03c66ae   \n",
      "4  IT Software - Application Programming  a12553fc03bc7bcced8b1bb8963f97b4   \n",
      "\n",
      "   salary_cleaned  \n",
      "0        187500.0  \n",
      "1        200000.0  \n",
      "2             NaN  \n",
      "3             NaN  \n",
      "4             NaN  \n"
     ]
    }
   ],
   "source": [
    "print(df.head())"
   ]
  },
  {
   "cell_type": "code",
   "execution_count": 24,
   "id": "b99dbfc4-f1bb-4602-9eab-202edc771cc5",
   "metadata": {},
   "outputs": [],
   "source": [
    "df.to_csv(\"day1_cleaned.csv\", index=False)"
   ]
  },
  {
   "cell_type": "code",
   "execution_count": null,
   "id": "69e74ea4-3045-4837-9e81-438fc880aa12",
   "metadata": {},
   "outputs": [],
   "source": []
  },
  {
   "cell_type": "code",
   "execution_count": null,
   "id": "2113a666-3b03-447e-9fb9-8ae4f80f4fe5",
   "metadata": {},
   "outputs": [],
   "source": []
  }
 ],
 "metadata": {
  "kernelspec": {
   "display_name": "Python 3 (ipykernel)",
   "language": "python",
   "name": "python3"
  },
  "language_info": {
   "codemirror_mode": {
    "name": "ipython",
    "version": 3
   },
   "file_extension": ".py",
   "mimetype": "text/x-python",
   "name": "python",
   "nbconvert_exporter": "python",
   "pygments_lexer": "ipython3",
   "version": "3.12.11"
  }
 },
 "nbformat": 4,
 "nbformat_minor": 5
}
