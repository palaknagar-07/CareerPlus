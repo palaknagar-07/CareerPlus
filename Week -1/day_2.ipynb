{
 "cells": [
  {
   "cell_type": "markdown",
   "id": "7c9af75e-1726-4071-9e08-03430f2d559e",
   "metadata": {},
   "source": [
    "# DAY-2"
   ]
  },
  {
   "cell_type": "code",
   "execution_count": 2,
   "id": "eecf278b-2600-4c9f-9b2a-be7c18f28601",
   "metadata": {
    "scrolled": true
   },
   "outputs": [
    {
     "name": "stdout",
     "output_type": "stream",
     "text": [
      "                                      company  \\\n",
      "0                            MM Media Pvt Ltd   \n",
      "1                          find live infotech   \n",
      "2         Softtech Career Infosystem Pvt. Ltd   \n",
      "3                      Onboard HRServices LLP   \n",
      "4  Spire Technologies and Solutions Pvt. Ltd.   \n",
      "\n",
      "                                           education   experience  \\\n",
      "0  UG: B.Tech/B.E. - Any Specialization PG:Any Po...    0 - 1 yrs   \n",
      "1  UG: B.Tech/B.E. - Any Specialization PG:MBA/PG...    0 - 0 yrs   \n",
      "2  UG: Any Graduate - Any Specialization PG:Any P...    4 - 8 yrs   \n",
      "3  UG: Any Graduate - Any Specialization PG:CA Do...  11 - 15 yrs   \n",
      "4  UG: B.Tech/B.E. - Any Specialization PG:Any Po...    6 - 8 yrs   \n",
      "\n",
      "                                   industry  \\\n",
      "0          Media / Entertainment / Internet   \n",
      "1  Advertising / PR / MR / Event Management   \n",
      "2           IT-Software / Software Services   \n",
      "3    Banking / Financial Services / Broking   \n",
      "4           IT-Software / Software Services   \n",
      "\n",
      "                                         description         jobid  \\\n",
      "0  Job Description   Send me Jobs like this Quali...  210516002263   \n",
      "1  Job Description   Send me Jobs like this Quali...  210516002391   \n",
      "2  Job Description   Send me Jobs like this - as ...  101016900534   \n",
      "3  Job Description   Send me Jobs like this - Inv...   81016900536   \n",
      "4  Job Description   Send me Jobs like this Pleas...  120916002122   \n",
      "\n",
      "                                            location  \\\n",
      "0                                            Chennai   \n",
      "1                                            Chennai   \n",
      "2                                          Bengaluru   \n",
      "3  Mumbai, Bengaluru, Kolkata, Chennai, Coimbator...   \n",
      "4                                          Bengaluru   \n",
      "\n",
      "                                  job_title  num_positions  \\\n",
      "0  Walkin Data Entry Operator (night Shift)            NaN   \n",
      "1        Work Based Onhome Based Part Time.           60.0   \n",
      "2                    Pl/sql Developer - SQL            NaN   \n",
      "3    Manager/ad/partner - Indirect Tax - CA            NaN   \n",
      "4           JAVA Technical Lead (6-8 yrs) -            4.0   \n",
      "\n",
      "                           salary                date_posted source  \\\n",
      "0         1,50,000 - 2,25,000 P.A  2016-05-21 19:30:00 +0000    NaN   \n",
      "1  1,50,000 - 2,50,000 P.A. 20000  2016-05-21 19:30:00 +0000    NaN   \n",
      "2      Not Disclosed by Recruiter  2016-10-13 16:20:55 +0000    NaN   \n",
      "3      Not Disclosed by Recruiter  2016-10-13 16:20:55 +0000    NaN   \n",
      "4      Not Disclosed by Recruiter  2016-10-13 16:20:55 +0000    NaN   \n",
      "\n",
      "                                  skills                                id  \\\n",
      "0                                   ITES  43b19632647068535437c774b6ca6cf8   \n",
      "1                              Marketing  d4c72325e57f89f364812b5ed5a795f0   \n",
      "2  IT Software - Application Programming  c47df6f4cfdf5b46f1fd713ba61b9eba   \n",
      "3                               Accounts  115d28f140f694dd1cc61c53d03c66ae   \n",
      "4  IT Software - Application Programming  a12553fc03bc7bcced8b1bb8963f97b4   \n",
      "\n",
      "   salary_cleaned  \n",
      "0        187500.0  \n",
      "1        200000.0  \n",
      "2             NaN  \n",
      "3             NaN  \n",
      "4             NaN  \n",
      "<class 'pandas.core.frame.DataFrame'>\n",
      "RangeIndex: 22000 entries, 0 to 21999\n",
      "Data columns (total 15 columns):\n",
      " #   Column          Non-Null Count  Dtype  \n",
      "---  ------          --------------  -----  \n",
      " 0   company         22000 non-null  object \n",
      " 1   education       20004 non-null  object \n",
      " 2   experience      22000 non-null  object \n",
      " 3   industry        22000 non-null  object \n",
      " 4   description     22000 non-null  object \n",
      " 5   jobid           22000 non-null  int64  \n",
      " 6   location        21499 non-null  object \n",
      " 7   job_title       22000 non-null  object \n",
      " 8   num_positions   4464 non-null   float64\n",
      " 9   salary          21903 non-null  object \n",
      " 10  date_posted     21977 non-null  object \n",
      " 11  source          3987 non-null   object \n",
      " 12  skills          21472 non-null  object \n",
      " 13  id              22000 non-null  object \n",
      " 14  salary_cleaned  4428 non-null   float64\n",
      "dtypes: float64(2), int64(1), object(12)\n",
      "memory usage: 2.5+ MB\n",
      "None\n"
     ]
    }
   ],
   "source": [
    "import pandas as pd\n",
    "import numpy as np\n",
    "import matplotlib.pyplot as plt\n",
    "path = \"day1_cleaned.csv\"\n",
    "df = pd.read_csv(path)\n",
    "print(df.head())\n",
    "print(df.info())"
   ]
  },
  {
   "cell_type": "code",
   "execution_count": 3,
   "id": "a9fe74e5-86cd-4dd4-917b-cb257007c9fa",
   "metadata": {},
   "outputs": [],
   "source": [
    "df.rename(columns = {'joblocation_address': 'location',\n",
    "                    'jobtitle': 'job_title',\n",
    "                    'jobdescription': 'description',\n",
    "                    'numberofpositions': 'num_positions',\n",
    "                    'payrate': 'salary',\n",
    "                    'postdate': 'date_posted',\n",
    "                    'site_name': 'source',\n",
    "                    'uniq_id': 'id'}, inplace=True)"
   ]
  },
  {
   "cell_type": "markdown",
   "id": "2a059111-13b6-4c3b-8ad8-eb1f8d1ee3b5",
   "metadata": {},
   "source": [
    "## Let’s clean job titles step by step so they’re normalized and grouped properly."
   ]
  },
  {
   "cell_type": "code",
   "execution_count": 4,
   "id": "2968a7ef-c95a-4812-a47d-fab5d44e23ee",
   "metadata": {},
   "outputs": [],
   "source": [
    "df[\"job_title_cleaned\"] = df[\"job_title\"].str.lower()\n",
    "df[\"job_title_Cleaned\"] = df[\"job_title_cleaned\"].str.replace(r'[^a-z0-9\\s]', '', regex=True)\n",
    "df[\"job_title_cleaned\"] = df[\"job_title_cleaned\"].str.strip()"
   ]
  },
  {
   "cell_type": "code",
   "execution_count": 6,
   "id": "32ca5d91-46c3-4cb3-8c59-51a409acd4e9",
   "metadata": {
    "scrolled": true
   },
   "outputs": [
    {
     "name": "stdout",
     "output_type": "stream",
     "text": [
      "['data scientist / bangalore'\n",
      " 'data scientist/vba programming/r programming/fmcg-cpg/bangalore'\n",
      " 'data scientist - machine learning'\n",
      " 'data scientist partners for start-up' 'data scientist'\n",
      " 'data scientist-machine learning' 'data scientist big data ml'\n",
      " 'data scientist (machine learning)' 'data scientist machine learning'\n",
      " 'data scientist - bangalore' 'data scientist - telecom domain'\n",
      " 'data scientist senior data scientist'\n",
      " 'data scientist/algorithm model developer'\n",
      " 'data scientist - machine learning/nlp'\n",
      " 'data scientist - data modelling - forecasting'\n",
      " 'data scientist (big data)' 'data scientist (bangalore)']\n"
     ]
    }
   ],
   "source": [
    "data_scientist_jobs = df['job_title_cleaned'][df['job_title_cleaned'].str.startswith('data scientist', na=False)]\n",
    "print(data_scientist_jobs.unique())\n"
   ]
  },
  {
   "cell_type": "markdown",
   "id": "abb58907-b14c-4f7f-807e-f3e7d7e190a1",
   "metadata": {},
   "source": [
    "## Let’s automatically normalize all “Data Scientist” variants in your dataset. \n",
    "### We’ll do this in a systematic way"
   ]
  },
  {
   "cell_type": "code",
   "execution_count": 7,
   "id": "150f8828-987c-409e-b562-61ee1b36e6e6",
   "metadata": {
    "scrolled": true
   },
   "outputs": [
    {
     "name": "stdout",
     "output_type": "stream",
     "text": [
      "All 'Data scientist' variations: \n",
      " ['lead data scientist' 'data scientist / bangalore'\n",
      " 'data scientist/vba programming/r programming/fmcg-cpg/bangalore'\n",
      " 'data scientist - machine learning'\n",
      " 'data scientist partners for start-up' 'data scientist'\n",
      " 'director - data scientist - nlp/r/sas' 'senior data scientist'\n",
      " 'data scientist-machine learning' 'big data scientist'\n",
      " 'data scientist big data ml' 'excellent opportunity for data scientist'\n",
      " 'nlp data scientist' 'data scientist (machine learning)'\n",
      " 'principal data scientist' 'data scientist machine learning'\n",
      " 'data scientist - bangalore' 'data scientist - telecom domain'\n",
      " 'senior data scientist / algorithms specialist'\n",
      " 'data scientist senior data scientist' 'senior engineer data scientist'\n",
      " 'chief data scientist' 'data scientist/algorithm model developer'\n",
      " 'data scientist - machine learning/nlp'\n",
      " 'data scientist - data modelling - forecasting'\n",
      " 'principle statistician / data scientist' 'data scientist (big data)'\n",
      " 'principle statistician / data scientist - advanced analytics'\n",
      " 'lead - data scientist - r / python/ scala- iit / iiit / nit, iisc'\n",
      " 'data scientist (bangalore)' 'developer engineer and data scientist']\n"
     ]
    }
   ],
   "source": [
    "ds_titles_mask  = df[\"job_title_cleaned\"].str.contains(\"data scientist\", na=False)\n",
    "ds_varitaions = df.loc[ds_titles_mask, \"job_title_cleaned\"].unique()\n",
    "print(\"All 'Data scientist' variations: \\n\", ds_varitaions)"
   ]
  },
  {
   "cell_type": "code",
   "execution_count": 8,
   "id": "82cf398c-d99c-4e55-82f6-1dc4dc313e68",
   "metadata": {},
   "outputs": [],
   "source": [
    "ds_mapping = {title: \"data scientist\" for title in ds_varitaions}\n",
    "df['job_title_cleaned'] = df['job_title_cleaned'].replace(ds_mapping)"
   ]
  },
  {
   "cell_type": "code",
   "execution_count": 9,
   "id": "48f10e1a-976d-4a98-9c80-850837c9ba72",
   "metadata": {
    "scrolled": true
   },
   "outputs": [
    {
     "name": "stdout",
     "output_type": "stream",
     "text": [
      "job_title_cleaned\n",
      "business development manager                                              101\n",
      "business development executive                                             96\n",
      "software engineer                                                          88\n",
      "android developer                                                          77\n",
      "php developer                                                              72\n",
      "project manager                                                            71\n",
      "web designer                                                               69\n",
      "content writer                                                             68\n",
      "java developer                                                             61\n",
      "sales executive                                                            60\n",
      "senior software engineer                                                   60\n",
      "dot net developer                                                          55\n",
      "marketing executive                                                        52\n",
      "ios developer                                                              52\n",
      "sales manager                                                              52\n",
      "medical coding transcription - we will help you out - wtsap 9789004777     47\n",
      "graphic designer                                                           42\n",
      "data scientist                                                             40\n",
      "business analyst                                                           36\n",
      "software developer                                                         34\n",
      "Name: count, dtype: int64\n"
     ]
    }
   ],
   "source": [
    "# Check unique job titles again\n",
    "print(df['job_title_cleaned'].value_counts().head(20))"
   ]
  },
  {
   "cell_type": "code",
   "execution_count": 10,
   "id": "b96db22f-29db-4723-abd9-d3acd8255c64",
   "metadata": {
    "jupyter": {
     "source_hidden": true
    }
   },
   "outputs": [
    {
     "name": "stdout",
     "output_type": "stream",
     "text": [
      "40\n"
     ]
    }
   ],
   "source": [
    "\n",
    "# Check only Data Scientist now\n",
    "print(df[df['job_title_cleaned'] == 'data scientist'].shape[0])\n"
   ]
  },
  {
   "cell_type": "code",
   "execution_count": 11,
   "id": "e3f66542-5732-473f-8a99-90158063afc4",
   "metadata": {
    "jupyter": {
     "source_hidden": true
    }
   },
   "outputs": [
    {
     "name": "stdout",
     "output_type": "stream",
     "text": [
      "['data scientist']\n"
     ]
    }
   ],
   "source": [
    "data_scientist_jobs = df['job_title_cleaned'][df['job_title_cleaned'].str.startswith('data scientist', na=False)]\n",
    "print(data_scientist_jobs.unique())"
   ]
  },
  {
   "cell_type": "markdown",
   "id": "a577a41e-534e-4911-9478-3f2a0bff05f3",
   "metadata": {},
   "source": [
    "# Result\n",
    "All senior, junior, lead, or other variations of Data Scientist are now grouped under data scientist.\n",
    "Makes aggregation and salary analysis much cleaner.\n",
    "we can repeat this for other roles like Software Engineer, Frontend Engineer, Backend Engineer, etc., by changing the keyword in str.contains()."
   ]
  },
  {
   "cell_type": "code",
   "execution_count": 13,
   "id": "527779ac-5e73-4897-a5cb-a929a8f14540",
   "metadata": {},
   "outputs": [
    {
     "name": "stdout",
     "output_type": "stream",
     "text": [
      "                                      company  \\\n",
      "0                            MM Media Pvt Ltd   \n",
      "1                          find live infotech   \n",
      "2         Softtech Career Infosystem Pvt. Ltd   \n",
      "3                      Onboard HRServices LLP   \n",
      "4  Spire Technologies and Solutions Pvt. Ltd.   \n",
      "\n",
      "                                           education   experience  \\\n",
      "0  UG: B.Tech/B.E. - Any Specialization PG:Any Po...    0 - 1 yrs   \n",
      "1  UG: B.Tech/B.E. - Any Specialization PG:MBA/PG...    0 - 0 yrs   \n",
      "2  UG: Any Graduate - Any Specialization PG:Any P...    4 - 8 yrs   \n",
      "3  UG: Any Graduate - Any Specialization PG:CA Do...  11 - 15 yrs   \n",
      "4  UG: B.Tech/B.E. - Any Specialization PG:Any Po...    6 - 8 yrs   \n",
      "\n",
      "                                   industry  \\\n",
      "0          Media / Entertainment / Internet   \n",
      "1  Advertising / PR / MR / Event Management   \n",
      "2           IT-Software / Software Services   \n",
      "3    Banking / Financial Services / Broking   \n",
      "4           IT-Software / Software Services   \n",
      "\n",
      "                                         description         jobid  \\\n",
      "0  Job Description   Send me Jobs like this Quali...  210516002263   \n",
      "1  Job Description   Send me Jobs like this Quali...  210516002391   \n",
      "2  Job Description   Send me Jobs like this - as ...  101016900534   \n",
      "3  Job Description   Send me Jobs like this - Inv...   81016900536   \n",
      "4  Job Description   Send me Jobs like this Pleas...  120916002122   \n",
      "\n",
      "                                            location  \\\n",
      "0                                            Chennai   \n",
      "1                                            Chennai   \n",
      "2                                          Bengaluru   \n",
      "3  Mumbai, Bengaluru, Kolkata, Chennai, Coimbator...   \n",
      "4                                          Bengaluru   \n",
      "\n",
      "                                  job_title  num_positions  \\\n",
      "0  Walkin Data Entry Operator (night Shift)            NaN   \n",
      "1        Work Based Onhome Based Part Time.           60.0   \n",
      "2                    Pl/sql Developer - SQL            NaN   \n",
      "3    Manager/ad/partner - Indirect Tax - CA            NaN   \n",
      "4           JAVA Technical Lead (6-8 yrs) -            4.0   \n",
      "\n",
      "                           salary                date_posted source  \\\n",
      "0         1,50,000 - 2,25,000 P.A  2016-05-21 19:30:00 +0000    NaN   \n",
      "1  1,50,000 - 2,50,000 P.A. 20000  2016-05-21 19:30:00 +0000    NaN   \n",
      "2      Not Disclosed by Recruiter  2016-10-13 16:20:55 +0000    NaN   \n",
      "3      Not Disclosed by Recruiter  2016-10-13 16:20:55 +0000    NaN   \n",
      "4      Not Disclosed by Recruiter  2016-10-13 16:20:55 +0000    NaN   \n",
      "\n",
      "                                  skills                                id  \\\n",
      "0                                   ITES  43b19632647068535437c774b6ca6cf8   \n",
      "1                              Marketing  d4c72325e57f89f364812b5ed5a795f0   \n",
      "2  IT Software - Application Programming  c47df6f4cfdf5b46f1fd713ba61b9eba   \n",
      "3                               Accounts  115d28f140f694dd1cc61c53d03c66ae   \n",
      "4  IT Software - Application Programming  a12553fc03bc7bcced8b1bb8963f97b4   \n",
      "\n",
      "   salary_cleaned                         job_title_cleaned  \\\n",
      "0        187500.0  walkin data entry operator (night shift)   \n",
      "1        200000.0        work based onhome based part time.   \n",
      "2             NaN                    pl/sql developer - sql   \n",
      "3             NaN    manager/ad/partner - indirect tax - ca   \n",
      "4             NaN           java technical lead (6-8 yrs) -   \n",
      "\n",
      "                        job_title_Cleaned  \n",
      "0  walkin data entry operator night shift  \n",
      "1       work based onhome based part time  \n",
      "2                    plsql developer  sql  \n",
      "3      manageradpartner  indirect tax  ca  \n",
      "4             java technical lead 68 yrs   \n"
     ]
    }
   ],
   "source": [
    "print(df.head())"
   ]
  },
  {
   "cell_type": "code",
   "execution_count": 14,
   "id": "b82ed2c0-8dbd-44f8-a5ff-ee5138e119eb",
   "metadata": {},
   "outputs": [],
   "source": [
    "df.to_csv(\"day2_cleaned.csv\", index=False)"
   ]
  },
  {
   "cell_type": "code",
   "execution_count": null,
   "id": "b3e8afbd-6f53-423b-8914-77116dcfd8b0",
   "metadata": {},
   "outputs": [],
   "source": []
  }
 ],
 "metadata": {
  "kernelspec": {
   "display_name": "Python 3 (ipykernel)",
   "language": "python",
   "name": "python3"
  },
  "language_info": {
   "codemirror_mode": {
    "name": "ipython",
    "version": 3
   },
   "file_extension": ".py",
   "mimetype": "text/x-python",
   "name": "python",
   "nbconvert_exporter": "python",
   "pygments_lexer": "ipython3",
   "version": "3.12.11"
  }
 },
 "nbformat": 4,
 "nbformat_minor": 5
}
