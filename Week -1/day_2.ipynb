{
 "cells": [
  {
   "cell_type": "markdown",
   "id": "7c9af75e-1726-4071-9e08-03430f2d559e",
   "metadata": {},
   "source": [
    "# DAY-2"
   ]
  },
  {
   "cell_type": "code",
   "execution_count": 72,
   "id": "eecf278b-2600-4c9f-9b2a-be7c18f28601",
   "metadata": {
    "scrolled": true
   },
   "outputs": [
    {
     "name": "stdout",
     "output_type": "stream",
     "text": [
      "                                      company  \\\n",
      "0                            MM Media Pvt Ltd   \n",
      "1                          find live infotech   \n",
      "2         Softtech Career Infosystem Pvt. Ltd   \n",
      "3                      Onboard HRServices LLP   \n",
      "4  Spire Technologies and Solutions Pvt. Ltd.   \n",
      "\n",
      "                                           education   experience  \\\n",
      "0  UG: B.Tech/B.E. - Any Specialization PG:Any Po...    0 - 1 yrs   \n",
      "1  UG: B.Tech/B.E. - Any Specialization PG:MBA/PG...    0 - 0 yrs   \n",
      "2  UG: Any Graduate - Any Specialization PG:Any P...    4 - 8 yrs   \n",
      "3  UG: Any Graduate - Any Specialization PG:CA Do...  11 - 15 yrs   \n",
      "4  UG: B.Tech/B.E. - Any Specialization PG:Any Po...    6 - 8 yrs   \n",
      "\n",
      "                                   industry  \\\n",
      "0          Media / Entertainment / Internet   \n",
      "1  Advertising / PR / MR / Event Management   \n",
      "2           IT-Software / Software Services   \n",
      "3    Banking / Financial Services / Broking   \n",
      "4           IT-Software / Software Services   \n",
      "\n",
      "                                         description         jobid  \\\n",
      "0  Job Description   Send me Jobs like this Quali...  210516002263   \n",
      "1  Job Description   Send me Jobs like this Quali...  210516002391   \n",
      "2  Job Description   Send me Jobs like this - as ...  101016900534   \n",
      "3  Job Description   Send me Jobs like this - Inv...   81016900536   \n",
      "4  Job Description   Send me Jobs like this Pleas...  120916002122   \n",
      "\n",
      "                                            location  \\\n",
      "0                                            Chennai   \n",
      "1                                            Chennai   \n",
      "2                                          Bengaluru   \n",
      "3  Mumbai, Bengaluru, Kolkata, Chennai, Coimbator...   \n",
      "4                                          Bengaluru   \n",
      "\n",
      "                                  job_title  num_positions  \\\n",
      "0  Walkin Data Entry Operator (night Shift)            NaN   \n",
      "1        Work Based Onhome Based Part Time.           60.0   \n",
      "2                    Pl/sql Developer - SQL            NaN   \n",
      "3    Manager/ad/partner - Indirect Tax - CA            NaN   \n",
      "4           JAVA Technical Lead (6-8 yrs) -            4.0   \n",
      "\n",
      "                           salary                date_posted source  \\\n",
      "0         1,50,000 - 2,25,000 P.A  2016-05-21 19:30:00 +0000    NaN   \n",
      "1  1,50,000 - 2,50,000 P.A. 20000  2016-05-21 19:30:00 +0000    NaN   \n",
      "2      Not Disclosed by Recruiter  2016-10-13 16:20:55 +0000    NaN   \n",
      "3      Not Disclosed by Recruiter  2016-10-13 16:20:55 +0000    NaN   \n",
      "4      Not Disclosed by Recruiter  2016-10-13 16:20:55 +0000    NaN   \n",
      "\n",
      "                                  skills                                id  \\\n",
      "0                                   ITES  43b19632647068535437c774b6ca6cf8   \n",
      "1                              Marketing  d4c72325e57f89f364812b5ed5a795f0   \n",
      "2  IT Software - Application Programming  c47df6f4cfdf5b46f1fd713ba61b9eba   \n",
      "3                               Accounts  115d28f140f694dd1cc61c53d03c66ae   \n",
      "4  IT Software - Application Programming  a12553fc03bc7bcced8b1bb8963f97b4   \n",
      "\n",
      "   salary_cleaned  \n",
      "0        187500.0  \n",
      "1        200000.0  \n",
      "2             NaN  \n",
      "3             NaN  \n",
      "4             NaN  \n",
      "<class 'pandas.core.frame.DataFrame'>\n",
      "RangeIndex: 22000 entries, 0 to 21999\n",
      "Data columns (total 15 columns):\n",
      " #   Column          Non-Null Count  Dtype  \n",
      "---  ------          --------------  -----  \n",
      " 0   company         22000 non-null  object \n",
      " 1   education       20004 non-null  object \n",
      " 2   experience      22000 non-null  object \n",
      " 3   industry        22000 non-null  object \n",
      " 4   description     22000 non-null  object \n",
      " 5   jobid           22000 non-null  int64  \n",
      " 6   location        21499 non-null  object \n",
      " 7   job_title       22000 non-null  object \n",
      " 8   num_positions   4464 non-null   float64\n",
      " 9   salary          21903 non-null  object \n",
      " 10  date_posted     21977 non-null  object \n",
      " 11  source          3987 non-null   object \n",
      " 12  skills          21472 non-null  object \n",
      " 13  id              22000 non-null  object \n",
      " 14  salary_cleaned  4428 non-null   float64\n",
      "dtypes: float64(2), int64(1), object(12)\n",
      "memory usage: 2.5+ MB\n",
      "None\n"
     ]
    }
   ],
   "source": [
    "import pandas as pd\n",
    "import numpy as np\n",
    "import matplotlib.pyplot as plt\n",
    "path = \"day1_cleaned.csv\"\n",
    "df = pd.read_csv(path)\n",
    "print(df.head())\n",
    "print(df.info())"
   ]
  },
  {
   "cell_type": "code",
   "execution_count": 73,
   "id": "a9fe74e5-86cd-4dd4-917b-cb257007c9fa",
   "metadata": {},
   "outputs": [],
   "source": [
    "df.rename(columns = {'joblocation_address': 'location',\n",
    "                    'jobtitle': 'job_title',\n",
    "                    'jobdescription': 'description',\n",
    "                    'numberofpositions': 'num_positions',\n",
    "                    'payrate': 'salary',\n",
    "                    'postdate': 'date_posted',\n",
    "                    'site_name': 'source',\n",
    "                    'uniq_id': 'id'}, inplace=True)"
   ]
  },
  {
   "cell_type": "markdown",
   "id": "2a059111-13b6-4c3b-8ad8-eb1f8d1ee3b5",
   "metadata": {},
   "source": [
    "## Let’s clean job titles step by step so they’re normalized and grouped properly."
   ]
  },
  {
   "cell_type": "code",
   "execution_count": 74,
   "id": "2968a7ef-c95a-4812-a47d-fab5d44e23ee",
   "metadata": {},
   "outputs": [],
   "source": [
    "df[\"job_title_cleaned\"] = df[\"job_title\"].str.lower()\n",
    "df[\"job_title_Cleaned\"] = df[\"job_title_cleaned\"].str.replace(r'[^a-z0-9\\s]', '', regex=True)\n",
    "df[\"job_title_cleaned\"] = df[\"job_title_cleaned\"].str.strip()"
   ]
  },
  {
   "cell_type": "code",
   "execution_count": 75,
   "id": "32ca5d91-46c3-4cb3-8c59-51a409acd4e9",
   "metadata": {
    "scrolled": true
   },
   "outputs": [
    {
     "name": "stdout",
     "output_type": "stream",
     "text": [
      "['data scientist / bangalore'\n",
      " 'data scientist/vba programming/r programming/fmcg-cpg/bangalore'\n",
      " 'data scientist - machine learning'\n",
      " 'data scientist partners for start-up' 'data scientist'\n",
      " 'data scientist-machine learning' 'data scientist big data ml'\n",
      " 'data scientist (machine learning)' 'data scientist machine learning'\n",
      " 'data scientist - bangalore' 'data scientist - telecom domain'\n",
      " 'data scientist senior data scientist'\n",
      " 'data scientist/algorithm model developer'\n",
      " 'data scientist - machine learning/nlp'\n",
      " 'data scientist - data modelling - forecasting'\n",
      " 'data scientist (big data)' 'data scientist (bangalore)']\n"
     ]
    }
   ],
   "source": [
    "data_scientist_jobs = df['job_title_cleaned'][df['job_title_cleaned'].str.startswith('data scientist', na=False)]\n",
    "print(data_scientist_jobs.unique())\n"
   ]
  },
  {
   "cell_type": "markdown",
   "id": "abb58907-b14c-4f7f-807e-f3e7d7e190a1",
   "metadata": {},
   "source": [
    "## Let’s automatically normalize all “Data Scientist” variants in your dataset. \n",
    "### We’ll do this in a systematic way"
   ]
  },
  {
   "cell_type": "code",
   "execution_count": 76,
   "id": "150f8828-987c-409e-b562-61ee1b36e6e6",
   "metadata": {
    "scrolled": true
   },
   "outputs": [
    {
     "name": "stdout",
     "output_type": "stream",
     "text": [
      "All 'Data scientist' variations: \n",
      " ['lead data scientist' 'data scientist / bangalore'\n",
      " 'data scientist/vba programming/r programming/fmcg-cpg/bangalore'\n",
      " 'data scientist - machine learning'\n",
      " 'data scientist partners for start-up' 'data scientist'\n",
      " 'director - data scientist - nlp/r/sas' 'senior data scientist'\n",
      " 'data scientist-machine learning' 'big data scientist'\n",
      " 'data scientist big data ml' 'excellent opportunity for data scientist'\n",
      " 'nlp data scientist' 'data scientist (machine learning)'\n",
      " 'principal data scientist' 'data scientist machine learning'\n",
      " 'data scientist - bangalore' 'data scientist - telecom domain'\n",
      " 'senior data scientist / algorithms specialist'\n",
      " 'data scientist senior data scientist' 'senior engineer data scientist'\n",
      " 'chief data scientist' 'data scientist/algorithm model developer'\n",
      " 'data scientist - machine learning/nlp'\n",
      " 'data scientist - data modelling - forecasting'\n",
      " 'principle statistician / data scientist' 'data scientist (big data)'\n",
      " 'principle statistician / data scientist - advanced analytics'\n",
      " 'lead - data scientist - r / python/ scala- iit / iiit / nit, iisc'\n",
      " 'data scientist (bangalore)' 'developer engineer and data scientist']\n"
     ]
    }
   ],
   "source": [
    "ds_titles_mask  = df[\"job_title_cleaned\"].str.contains(\"data scientist\", na=False)\n",
    "ds_varitaions = df.loc[ds_titles_mask, \"job_title_cleaned\"].unique()\n",
    "print(\"All 'Data scientist' variations: \\n\", ds_varitaions)"
   ]
  },
  {
   "cell_type": "code",
   "execution_count": 77,
   "id": "82cf398c-d99c-4e55-82f6-1dc4dc313e68",
   "metadata": {},
   "outputs": [],
   "source": [
    "ds_mapping = {title: \"data scientist\" for title in ds_varitaions}\n",
    "df['job_title_cleaned'] = df['job_title_cleaned'].replace(ds_mapping)"
   ]
  },
  {
   "cell_type": "code",
   "execution_count": 78,
   "id": "48f10e1a-976d-4a98-9c80-850837c9ba72",
   "metadata": {
    "scrolled": true
   },
   "outputs": [
    {
     "name": "stdout",
     "output_type": "stream",
     "text": [
      "job_title_cleaned\n",
      "business development manager                                              101\n",
      "business development executive                                             96\n",
      "software engineer                                                          88\n",
      "android developer                                                          77\n",
      "php developer                                                              72\n",
      "project manager                                                            71\n",
      "web designer                                                               69\n",
      "content writer                                                             68\n",
      "java developer                                                             61\n",
      "sales executive                                                            60\n",
      "senior software engineer                                                   60\n",
      "dot net developer                                                          55\n",
      "marketing executive                                                        52\n",
      "ios developer                                                              52\n",
      "sales manager                                                              52\n",
      "medical coding transcription - we will help you out - wtsap 9789004777     47\n",
      "graphic designer                                                           42\n",
      "data scientist                                                             40\n",
      "business analyst                                                           36\n",
      "software developer                                                         34\n",
      "Name: count, dtype: int64\n"
     ]
    }
   ],
   "source": [
    "# Check unique job titles again\n",
    "print(df['job_title_cleaned'].value_counts().head(20))"
   ]
  },
  {
   "cell_type": "code",
   "execution_count": 79,
   "id": "b96db22f-29db-4723-abd9-d3acd8255c64",
   "metadata": {},
   "outputs": [
    {
     "name": "stdout",
     "output_type": "stream",
     "text": [
      "40\n"
     ]
    }
   ],
   "source": [
    "\n",
    "# Check only Data Scientist now\n",
    "print(df[df['job_title_cleaned'] == 'data scientist'].shape[0])\n"
   ]
  },
  {
   "cell_type": "code",
   "execution_count": 80,
   "id": "e3f66542-5732-473f-8a99-90158063afc4",
   "metadata": {},
   "outputs": [
    {
     "name": "stdout",
     "output_type": "stream",
     "text": [
      "['data scientist']\n"
     ]
    }
   ],
   "source": [
    "data_scientist_jobs = df['job_title_cleaned'][df['job_title_cleaned'].str.startswith('data scientist', na=False)]\n",
    "print(data_scientist_jobs.unique())"
   ]
  },
  {
   "cell_type": "markdown",
   "id": "a577a41e-534e-4911-9478-3f2a0bff05f3",
   "metadata": {},
   "source": [
    "# Result\n",
    "All senior, junior, lead, or other variations of Data Scientist are now grouped under data scientist.\n",
    "Makes aggregation and salary analysis much cleaner.\n",
    "we can repeat this for other roles like Software Engineer, Frontend Engineer, Backend Engineer, etc., by changing the keyword in str.contains()."
   ]
  },
  {
   "cell_type": "code",
   "execution_count": null,
   "id": "641ec9ee-1810-4a2b-9601-93e5eca4343b",
   "metadata": {},
   "outputs": [],
   "source": []
  },
  {
   "cell_type": "code",
   "execution_count": null,
   "id": "2d259bc5-5ae4-4b04-b0d1-000bdd09eaf8",
   "metadata": {},
   "outputs": [],
   "source": []
  },
  {
   "cell_type": "code",
   "execution_count": 66,
   "id": "b82ed2c0-8dbd-44f8-a5ff-ee5138e119eb",
   "metadata": {
    "scrolled": true
   },
   "outputs": [],
   "source": [
    "# print(df[\"job_title\"].unique())\n",
    "# print(df[\"job_title\"].value_counts())\n",
    "# job_title_counts = df['job_title'].value_counts()\n",
    "\n",
    "# job_title_counts.to_csv(\"job_title_counts.csv\", header=True)\n"
   ]
  },
  {
   "cell_type": "code",
   "execution_count": 81,
   "id": "b3e8afbd-6f53-423b-8914-77116dcfd8b0",
   "metadata": {},
   "outputs": [],
   "source": [
    "\n",
    "import pandas as pd\n",
    "import re\n",
    "\n",
    "# 1️⃣ Normalize text: lowercase, remove symbols, strip spaces\n",
    "df['job_title_cleaned'] = df['job_title'].str.lower()\n",
    "df['job_title_cleaned'] = df['job_title_cleaned'].str.replace(r'[^a-z0-9\\s]', '', regex=True)\n",
    "df['job_title_cleaned'] = df['job_title_cleaned'].str.strip()\n",
    "\n",
    "# 2️⃣ Remove senior/junior/lead/principal/associate prefixes\n",
    "seniority_words = ['sr', 'senior', 'jr', 'junior', 'lead', 'principal', 'associate', 'trainee']\n",
    "pattern = r'\\b(?:' + '|'.join(seniority_words) + r')\\b'\n",
    "df['job_title_cleaned'] = df['job_title_cleaned'].str.replace(pattern, '', regex=True)\n",
    "df['job_title_cleaned'] = df['job_title_cleaned'].str.replace(r'\\s+', ' ', regex=True).str.strip()  # remove extra spaces\n",
    "\n",
    "# 3️⃣ Remove numbers, emails, and contact info\n",
    "df['job_title_cleaned'] = df['job_title_cleaned'].str.replace(r'\\d+', '', regex=True)  # remove digits\n",
    "df['job_title_cleaned'] = df['job_title_cleaned'].str.replace(r'\\S+@\\S+', '', regex=True)  # remove emails\n",
    "df['job_title_cleaned'] = df['job_title_cleaned'].str.strip()\n",
    "\n",
    "# 4️⃣ Truncate very long titles to first 6 words (optional)\n",
    "df['job_title_cleaned'] = df['job_title_cleaned'].apply(lambda x: ' '.join(x.split()[:6]))\n",
    "\n",
    "# 5️⃣ Keyword mapping: normalize common roles\n",
    "role_keywords = {\n",
    "    'data scientist': 'Data Scientist',\n",
    "    'machine learning': 'Data Scientist',\n",
    "    'ai engineer': 'Data Scientist',\n",
    "    'software engineer': 'Software Engineer',\n",
    "    'developer': 'Software Engineer',\n",
    "    'full stack': 'Full Stack Engineer',\n",
    "    'frontend': 'Frontend Engineer',\n",
    "    'backend': 'Backend Engineer',\n",
    "    'ios': 'iOS Developer',\n",
    "    'android': 'Android Developer',\n",
    "    'web designer': 'Web Designer',\n",
    "    'graphic designer': 'Graphic Designer',\n",
    "    'ui': 'UI Developer',\n",
    "    'php': 'PHP Developer',\n",
    "    'java': 'Java Developer',\n",
    "    'dot net': '.NET Developer',\n",
    "    'project manager': 'Project Manager',\n",
    "    'product manager': 'Product Manager',\n",
    "    'business development': 'Business Development',\n",
    "    'business analyst': 'Business Analyst',\n",
    "    'marketing': 'Marketing',\n",
    "    'sales': 'Sales',\n",
    "    'hr': 'HR',\n",
    "    'accountant': 'Accountant',\n",
    "    'devops': 'DevOps Engineer',\n",
    "    'network': 'Network Engineer',\n",
    "    'technical writer': 'Technical Writer',\n",
    "    'system administrator': 'System Administrator',\n",
    "    'analyst': 'Analyst',\n",
    "    'associate consultant': 'Associate Consultant',\n",
    "    'quality assurance': 'Quality Assurance'\n",
    "    # Add more keywords if needed\n",
    "}\n",
    "\n",
    "def map_job_title(title):\n",
    "    for keyword, standard in role_keywords.items():\n",
    "        if keyword in title:\n",
    "            return standard\n",
    "    return title.title()  # fallback: keep remaining text in title-case\n",
    "\n",
    "df['job_title_cleaned'] = df['job_title_cleaned'].apply(map_job_title)\n",
    "\n"
   ]
  },
  {
   "cell_type": "code",
   "execution_count": 82,
   "id": "2ab447f0-8022-410a-888b-9f67e1be91e7",
   "metadata": {},
   "outputs": [
    {
     "name": "stdout",
     "output_type": "stream",
     "text": [
      "                                            job_title  \\\n",
      "0            Walkin Data Entry Operator (night Shift)   \n",
      "1                  Work Based Onhome Based Part Time.   \n",
      "2                              Pl/sql Developer - SQL   \n",
      "3              Manager/ad/partner - Indirect Tax - CA   \n",
      "4                     JAVA Technical Lead (6-8 yrs) -   \n",
      "5   WALK IN - As400 Developer - Pfsweb Global Serv...   \n",
      "6                                       PHP Developer   \n",
      "7   Member Technical Staff-wire Harness/cable Harn...   \n",
      "8                                         Team Leader   \n",
      "9                                   German Translator   \n",
      "10                       Business Development Manager   \n",
      "11    Opening for Android Developer-bangalore-4-8 yrs   \n",
      "12         Full Stack Web Application (php) Developer   \n",
      "13           Looking for an Application Engineer-fpga   \n",
      "14                                  Revenue Assurance   \n",
      "15  Senior Java Full Stack Developer - Java/ Spring 4   \n",
      "16                               Data Entry Executive   \n",
      "17                PHP Developer_banashankari II Stage   \n",
      "18  Bluetooth Host Software Development Engineer -...   \n",
      "19                               E-commerce Executive   \n",
      "\n",
      "                                    job_title_cleaned  \n",
      "0              Walkin Data Entry Operator Night Shift  \n",
      "1                   Work Based Onhome Based Part Time  \n",
      "2                                   Software Engineer  \n",
      "3                    Manageradpartner Indirect Tax Ca  \n",
      "4                                      Java Developer  \n",
      "5                                   Software Engineer  \n",
      "6                                   Software Engineer  \n",
      "7   Member Technical Staffwire Harnesscable Harnes...  \n",
      "8                                         Team Leader  \n",
      "9                                   German Translator  \n",
      "10                               Business Development  \n",
      "11                                  Software Engineer  \n",
      "12                                  Software Engineer  \n",
      "13            Looking For An Application Engineerfpga  \n",
      "14                                  Revenue Assurance  \n",
      "15                                  Software Engineer  \n",
      "16                               Data Entry Executive  \n",
      "17                                  Software Engineer  \n",
      "18  Bluetooth Host Software Development Engineer A...  \n",
      "19                                Ecommerce Executive  \n",
      "job_title_cleaned\n",
      "Software Engineer                                                     3273\n",
      "Sales                                                                 1494\n",
      "UI Developer                                                          1033\n",
      "Marketing                                                              635\n",
      "Analyst                                                                568\n",
      "Business Development                                                   542\n",
      "HR                                                                     325\n",
      "Java Developer                                                         306\n",
      "Project Manager                                                        179\n",
      "Network Engineer                                                       164\n",
      "Business Analyst                                                       137\n",
      "Web Designer                                                           131\n",
      "Accountant                                                              98\n",
      "Graphic Designer                                                        94\n",
      "Product Manager                                                         90\n",
      "Content Writer                                                          75\n",
      "Data Scientist                                                          61\n",
      "Medical Coding Transcription We Will Help You Out Wtsap 9789004777      47\n",
      "PHP Developer                                                           46\n",
      ".NET Developer                                                          46\n",
      "Name: count, dtype: int64\n"
     ]
    }
   ],
   "source": [
    "\n",
    "# 6️⃣ Verify results\n",
    "print(df[['job_title', 'job_title_cleaned']].head(20))\n",
    "print(df['job_title_cleaned'].value_counts().head(20))\n"
   ]
  },
  {
   "cell_type": "code",
   "execution_count": null,
   "id": "6aed1a6f-b92a-450b-9477-07404425c3eb",
   "metadata": {},
   "outputs": [],
   "source": []
  },
  {
   "cell_type": "code",
   "execution_count": 83,
   "id": "74ba02c5-7a8c-40da-8e79-f1ca7d0ec79d",
   "metadata": {},
   "outputs": [
    {
     "name": "stdout",
     "output_type": "stream",
     "text": [
      "job_title_cleaned\n",
      "It Engineer Noida Urgent                                                 1\n",
      "Fresher Ca Jobbig 4 Shared Services Gurgaoninterview 4Th5Th Feb          1\n",
      "Eeg Engineer                                                             1\n",
      "Eng Eng R D                                                              1\n",
      "Mega Walkins For Education Counsellor Executive At Magnious Solutions    1\n",
      "Peoplesoft Database Administrator                                        1\n",
      "Interior Draughtsman                                                     1\n",
      "Desktop Supportgurgaon                                                   1\n",
      "Head Visualizer                                                          1\n",
      "Reqd Finance Manager With 15 Years Experience For Garment Industry       1\n",
      "Managerbusiness Ops                                                      1\n",
      "Group Manager Fundamental Research New Search                            1\n",
      "Domestic Bpo International Bpo Cce Chat Process                          1\n",
      "International Travel Consultant And Gds Amber965484841401142603383       1\n",
      "Hiring For Fresher International Bpo In Voice Process Call 8586082750    1\n",
      "Tech Web Linux Ubunto Platform                                           1\n",
      "Receptionist Front Office Executive Assistant 01165001036 34             1\n",
      "Security Officer Ghaziabad Gurgaon Ex Servicemen                         1\n",
      "Opportunity To Work With Lexinnova Voice Process                         1\n",
      "Hiring For Collection                                                    1\n",
      "Dgca Bemac Ame Engineers                                                 1\n",
      "Civil Engineer Civil Manager Maintenance Walkins 11Am 4Pm                1\n",
      "Ar Callers                                                               1\n",
      "Walk In Interview For Post Of Field Operation And Executive Research     1\n",
      "Icwacma Must Have Worked On Fico Module On Sap In Manufacturing          1\n",
      "Avpstrategic Accounts                                                    1\n",
      "Executive Assistant Female Gurgaon                                       1\n",
      "Faculty Positions Gems Jewelry                                           1\n",
      "Vehicle Incharge For A Manufacturing Industry Hubli                      1\n",
      "Rf Firmware Engineers                                                    1\n",
      "Name: count, dtype: int64\n"
     ]
    }
   ],
   "source": [
    "print(df['job_title_cleaned'].value_counts().tail(30))\n",
    "# print(df['job_title'].value_counts().tail(30))"
   ]
  },
  {
   "cell_type": "code",
   "execution_count": 86,
   "id": "47516600-a972-46cf-babb-9b7f1f3d1877",
   "metadata": {},
   "outputs": [],
   "source": [
    "job_title_counts = df['job_title_cleaned'].value_counts()\n",
    "\n",
    "job_title_counts.to_csv(\"job_title_counts.csv\", header=True)\n"
   ]
  },
  {
   "cell_type": "code",
   "execution_count": 91,
   "id": "564d84bb-d1e3-4334-8e1e-a4008622fa72",
   "metadata": {},
   "outputs": [
    {
     "name": "stdout",
     "output_type": "stream",
     "text": [
      "Index(['company', 'education', 'experience', 'industry', 'description',\n",
      "       'jobid', 'location', 'num_positions', 'salary', 'date_posted', 'source',\n",
      "       'skills', 'id', 'salary_cleaned', 'job_title_cleaned',\n",
      "       'job_title_Cleaned'],\n",
      "      dtype='object')\n",
      "False\n",
      "                                       job_title_cleaned  \\\n",
      "0                 Walkin Data Entry Operator Night Shift   \n",
      "1                      Work Based Onhome Based Part Time   \n",
      "2                                      Software Engineer   \n",
      "3                       Manageradpartner Indirect Tax Ca   \n",
      "4                                         Java Developer   \n",
      "...                                                  ...   \n",
      "21995  Quality Assurance Vp With Morgan Stanley Banga...   \n",
      "21996                                  Software Engineer   \n",
      "21997                                Full Stack Engineer   \n",
      "21998                                  Software Engineer   \n",
      "21999                              Rf Firmware Engineers   \n",
      "\n",
      "                                       job_title_Cleaned  \n",
      "0                 walkin data entry operator night shift  \n",
      "1                      work based onhome based part time  \n",
      "2                                   plsql developer  sql  \n",
      "3                     manageradpartner  indirect tax  ca  \n",
      "4                            java technical lead 68 yrs   \n",
      "...                                                  ...  \n",
      "21995  quality assurance  vp with morgan stanley bang...  \n",
      "21996      java backend developers for a product company  \n",
      "21997                    full stack development engineer  \n",
      "21998  sr ui developer technical lead  html css javas...  \n",
      "21999                              rf firmware engineers  \n",
      "\n",
      "[22000 rows x 2 columns]\n"
     ]
    }
   ],
   "source": [
    "print(df.columns)\n",
    "# Check if both columns are exactly the same\n",
    "are_equal = df['job_title_cleaned'].equals(df['job_title_Cleaned'])\n",
    "print(are_equal)\n",
    "\n",
    "# Show rows where they differ\n",
    "diff_rows = df[df['job_title_cleaned'] != df['job_title_Cleaned']]\n",
    "print(diff_rows[['job_title_cleaned', 'job_title_Cleaned']])\n",
    "\n",
    "\n",
    "\n"
   ]
  },
  {
   "cell_type": "code",
   "execution_count": 88,
   "id": "7f0be377-1f62-4cb7-addb-989f797aa9f8",
   "metadata": {},
   "outputs": [],
   "source": [
    "df.to_csv(\"day2_cleaned.csv\", index=False)"
   ]
  },
  {
   "cell_type": "code",
   "execution_count": null,
   "id": "eeb5c96d-e1d2-48e8-bb18-febbcf9f2f43",
   "metadata": {},
   "outputs": [],
   "source": []
  },
  {
   "cell_type": "code",
   "execution_count": null,
   "id": "775351f5-e752-4d22-b1d5-150bb779a3de",
   "metadata": {},
   "outputs": [],
   "source": []
  }
 ],
 "metadata": {
  "kernelspec": {
   "display_name": "Python 3 (ipykernel)",
   "language": "python",
   "name": "python3"
  },
  "language_info": {
   "codemirror_mode": {
    "name": "ipython",
    "version": 3
   },
   "file_extension": ".py",
   "mimetype": "text/x-python",
   "name": "python",
   "nbconvert_exporter": "python",
   "pygments_lexer": "ipython3",
   "version": "3.12.11"
  }
 },
 "nbformat": 4,
 "nbformat_minor": 5
}
