{
 "cells": [
  {
   "cell_type": "markdown",
   "id": "853e6acd-d2d9-4192-96de-c926df925f42",
   "metadata": {},
   "source": [
    "# Data Analysis for Career+"
   ]
  },
  {
   "cell_type": "markdown",
   "id": "fdd1f7b6-2fc1-454a-a79a-f8e54985b6be",
   "metadata": {},
   "source": [
    "## Day 1"
   ]
  },
  {
   "cell_type": "code",
   "execution_count": 2,
   "id": "a2329495-f3ab-4bb0-90b2-a3e12b4bcecf",
   "metadata": {},
   "outputs": [],
   "source": [
    "import pandas as pd\n",
    "import numpy as np\n",
    "import matplotlib.pyplot as plt"
   ]
  },
  {
   "cell_type": "code",
   "execution_count": 6,
   "id": "cf38761f-784c-4c3e-b664-cf88c8e53e41",
   "metadata": {
    "collapsed": true,
    "jupyter": {
     "outputs_hidden": true
    },
    "scrolled": true
   },
   "outputs": [
    {
     "name": "stdout",
     "output_type": "stream",
     "text": [
      "                                      company  \\\n",
      "0                            MM Media Pvt Ltd   \n",
      "1                          find live infotech   \n",
      "2         Softtech Career Infosystem Pvt. Ltd   \n",
      "3                      Onboard HRServices LLP   \n",
      "4  Spire Technologies and Solutions Pvt. Ltd.   \n",
      "\n",
      "                                           education   experience  \\\n",
      "0  UG: B.Tech/B.E. - Any Specialization PG:Any Po...    0 - 1 yrs   \n",
      "1  UG: B.Tech/B.E. - Any Specialization PG:MBA/PG...    0 - 0 yrs   \n",
      "2  UG: Any Graduate - Any Specialization PG:Any P...    4 - 8 yrs   \n",
      "3  UG: Any Graduate - Any Specialization PG:CA Do...  11 - 15 yrs   \n",
      "4  UG: B.Tech/B.E. - Any Specialization PG:Any Po...    6 - 8 yrs   \n",
      "\n",
      "                                   industry  \\\n",
      "0          Media / Entertainment / Internet   \n",
      "1  Advertising / PR / MR / Event Management   \n",
      "2           IT-Software / Software Services   \n",
      "3    Banking / Financial Services / Broking   \n",
      "4           IT-Software / Software Services   \n",
      "\n",
      "                                      jobdescription         jobid  \\\n",
      "0  Job Description   Send me Jobs like this Quali...  210516002263   \n",
      "1  Job Description   Send me Jobs like this Quali...  210516002391   \n",
      "2  Job Description   Send me Jobs like this - as ...  101016900534   \n",
      "3  Job Description   Send me Jobs like this - Inv...   81016900536   \n",
      "4  Job Description   Send me Jobs like this Pleas...  120916002122   \n",
      "\n",
      "                                 joblocation_address  \\\n",
      "0                                            Chennai   \n",
      "1                                            Chennai   \n",
      "2                                          Bengaluru   \n",
      "3  Mumbai, Bengaluru, Kolkata, Chennai, Coimbator...   \n",
      "4                                          Bengaluru   \n",
      "\n",
      "                                   jobtitle  numberofpositions  \\\n",
      "0  Walkin Data Entry Operator (night Shift)                NaN   \n",
      "1        Work Based Onhome Based Part Time.               60.0   \n",
      "2                    Pl/sql Developer - SQL                NaN   \n",
      "3    Manager/ad/partner - Indirect Tax - CA                NaN   \n",
      "4           JAVA Technical Lead (6-8 yrs) -                4.0   \n",
      "\n",
      "                          payrate                   postdate site_name  \\\n",
      "0         1,50,000 - 2,25,000 P.A  2016-05-21 19:30:00 +0000       NaN   \n",
      "1  1,50,000 - 2,50,000 P.A. 20000  2016-05-21 19:30:00 +0000       NaN   \n",
      "2      Not Disclosed by Recruiter  2016-10-13 16:20:55 +0000       NaN   \n",
      "3      Not Disclosed by Recruiter  2016-10-13 16:20:55 +0000       NaN   \n",
      "4      Not Disclosed by Recruiter  2016-10-13 16:20:55 +0000       NaN   \n",
      "\n",
      "                                  skills                           uniq_id  \n",
      "0                                   ITES  43b19632647068535437c774b6ca6cf8  \n",
      "1                              Marketing  d4c72325e57f89f364812b5ed5a795f0  \n",
      "2  IT Software - Application Programming  c47df6f4cfdf5b46f1fd713ba61b9eba  \n",
      "3                               Accounts  115d28f140f694dd1cc61c53d03c66ae  \n",
      "4  IT Software - Application Programming  a12553fc03bc7bcced8b1bb8963f97b4  \n",
      "<class 'pandas.core.frame.DataFrame'>\n",
      "RangeIndex: 22000 entries, 0 to 21999\n",
      "Data columns (total 14 columns):\n",
      " #   Column               Non-Null Count  Dtype  \n",
      "---  ------               --------------  -----  \n",
      " 0   company              21996 non-null  object \n",
      " 1   education            20004 non-null  object \n",
      " 2   experience           21996 non-null  object \n",
      " 3   industry             21995 non-null  object \n",
      " 4   jobdescription       21996 non-null  object \n",
      " 5   jobid                22000 non-null  int64  \n",
      " 6   joblocation_address  21499 non-null  object \n",
      " 7   jobtitle             22000 non-null  object \n",
      " 8   numberofpositions    4464 non-null   float64\n",
      " 9   payrate              21903 non-null  object \n",
      " 10  postdate             21977 non-null  object \n",
      " 11  site_name            3987 non-null   object \n",
      " 12  skills               21472 non-null  object \n",
      " 13  uniq_id              22000 non-null  object \n",
      "dtypes: float64(1), int64(1), object(12)\n",
      "memory usage: 2.3+ MB\n",
      "None\n"
     ]
    }
   ],
   "source": [
    "\n",
    "path = \"Dataset/naukri_com-job_sample.csv\"\n",
    "df = pd.read_csv(path)\n",
    "print(df.head())\n",
    "print(df.info())"
   ]
  },
  {
   "cell_type": "code",
   "execution_count": 26,
   "id": "c3b4cb1a-b1e5-4c51-a410-eddbc95a40bb",
   "metadata": {},
   "outputs": [],
   "source": [
    "df.rename(columns = {'joblocation_address': 'location',\n",
    "                    'jobtitle': 'job_title',\n",
    "                    'jobdescription': 'description',\n",
    "                    'numberofpositions': 'num_positions',\n",
    "                    'payrate': 'salary',\n",
    "                    'postdate': 'date_posted',\n",
    "                    'site_name': 'source',\n",
    "                    'uniq_id': 'id'}, inplace=True)"
   ]
  },
  {
   "cell_type": "code",
   "execution_count": 28,
   "id": "23ca5b00-7709-4583-b55a-48e1dd88a5cc",
   "metadata": {},
   "outputs": [
    {
     "data": {
      "text/html": [
       "<div>\n",
       "<style scoped>\n",
       "    .dataframe tbody tr th:only-of-type {\n",
       "        vertical-align: middle;\n",
       "    }\n",
       "\n",
       "    .dataframe tbody tr th {\n",
       "        vertical-align: top;\n",
       "    }\n",
       "\n",
       "    .dataframe thead th {\n",
       "        text-align: right;\n",
       "    }\n",
       "</style>\n",
       "<table border=\"1\" class=\"dataframe\">\n",
       "  <thead>\n",
       "    <tr style=\"text-align: right;\">\n",
       "      <th></th>\n",
       "      <th>jobid</th>\n",
       "      <th>num_positions</th>\n",
       "    </tr>\n",
       "  </thead>\n",
       "  <tbody>\n",
       "    <tr>\n",
       "      <th>count</th>\n",
       "      <td>2.200000e+04</td>\n",
       "      <td>4464.000000</td>\n",
       "    </tr>\n",
       "    <tr>\n",
       "      <th>mean</th>\n",
       "      <td>1.561171e+11</td>\n",
       "      <td>45.116935</td>\n",
       "    </tr>\n",
       "    <tr>\n",
       "      <th>std</th>\n",
       "      <td>9.423956e+10</td>\n",
       "      <td>186.197193</td>\n",
       "    </tr>\n",
       "    <tr>\n",
       "      <th>min</th>\n",
       "      <td>1.011600e+10</td>\n",
       "      <td>1.000000</td>\n",
       "    </tr>\n",
       "    <tr>\n",
       "      <th>25%</th>\n",
       "      <td>6.121650e+10</td>\n",
       "      <td>2.000000</td>\n",
       "    </tr>\n",
       "    <tr>\n",
       "      <th>50%</th>\n",
       "      <td>1.602169e+11</td>\n",
       "      <td>4.000000</td>\n",
       "    </tr>\n",
       "    <tr>\n",
       "      <th>75%</th>\n",
       "      <td>2.502166e+11</td>\n",
       "      <td>10.000000</td>\n",
       "    </tr>\n",
       "    <tr>\n",
       "      <th>max</th>\n",
       "      <td>3.112155e+11</td>\n",
       "      <td>2000.000000</td>\n",
       "    </tr>\n",
       "  </tbody>\n",
       "</table>\n",
       "</div>"
      ],
      "text/plain": [
       "              jobid  num_positions\n",
       "count  2.200000e+04    4464.000000\n",
       "mean   1.561171e+11      45.116935\n",
       "std    9.423956e+10     186.197193\n",
       "min    1.011600e+10       1.000000\n",
       "25%    6.121650e+10       2.000000\n",
       "50%    1.602169e+11       4.000000\n",
       "75%    2.502166e+11      10.000000\n",
       "max    3.112155e+11    2000.000000"
      ]
     },
     "execution_count": 28,
     "metadata": {},
     "output_type": "execute_result"
    }
   ],
   "source": [
    "numerical = [\"jobid\", \"num_positions\"]\n",
    "df[numerical].describe()"
   ]
  },
  {
   "cell_type": "code",
   "execution_count": 8,
   "id": "f9f5d25f-9745-448b-9022-e0dd228896fa",
   "metadata": {},
   "outputs": [
    {
     "name": "stdout",
     "output_type": "stream",
     "text": [
      "(22000, 14)\n"
     ]
    }
   ],
   "source": [
    "print(df.shape)"
   ]
  },
  {
   "cell_type": "code",
   "execution_count": 29,
   "id": "8171ca38-2e42-4d5b-8a3e-60423f975670",
   "metadata": {},
   "outputs": [
    {
     "name": "stdout",
     "output_type": "stream",
     "text": [
      "Empty DataFrame\n",
      "Columns: [company, education, experience, industry, description, jobid, location, job_title, num_positions, salary, date_posted, source, skills, id]\n",
      "Index: []\n"
     ]
    }
   ],
   "source": [
    "duplicateRows = df[df.duplicated()]\n",
    "print(duplicateRows)"
   ]
  },
  {
   "cell_type": "code",
   "execution_count": null,
   "id": "a1b2d22f-7f0f-40aa-8b57-5798b9eee599",
   "metadata": {},
   "outputs": [],
   "source": []
  },
  {
   "cell_type": "code",
   "execution_count": 30,
   "id": "62032da9-7b48-4dd5-a025-f5cbd5018efe",
   "metadata": {
    "collapsed": true,
    "jupyter": {
     "outputs_hidden": true
    },
    "scrolled": true
   },
   "outputs": [
    {
     "name": "stdout",
     "output_type": "stream",
     "text": [
      "Missing values per coloumn:\n",
      " company              4\n",
      "education         1996\n",
      "experience           4\n",
      "industry             5\n",
      "description          4\n",
      "jobid                0\n",
      "location           501\n",
      "job_title            0\n",
      "num_positions    17536\n",
      "salary           21999\n",
      "date_posted         23\n",
      "source           18013\n",
      "skills             528\n",
      "id                   0\n",
      "dtype: int64\n"
     ]
    }
   ],
   "source": [
    "missing_values = df.isnull().sum()\n",
    "print(\"Missing values per coloumn:\\n\",missing_values)"
   ]
  },
  {
   "cell_type": "code",
   "execution_count": 31,
   "id": "034418fc-7910-49b5-8aaa-359968fbd3d7",
   "metadata": {},
   "outputs": [
    {
     "name": "stdout",
     "output_type": "stream",
     "text": [
      "Missing percentage of values per coloumn:\n",
      " company           0.018182\n",
      "education         9.072727\n",
      "experience        0.018182\n",
      "industry          0.022727\n",
      "description       0.018182\n",
      "jobid             0.000000\n",
      "location          2.277273\n",
      "job_title         0.000000\n",
      "num_positions    79.709091\n",
      "salary           99.995455\n",
      "date_posted       0.104545\n",
      "source           81.877273\n",
      "skills            2.400000\n",
      "id                0.000000\n",
      "dtype: float64\n"
     ]
    }
   ],
   "source": [
    "missing_percent = (df.isnull().sum()) / len(df)*100\n",
    "print(\"Missing percentage of values per coloumn:\\n\",missing_percent)"
   ]
  },
  {
   "cell_type": "markdown",
   "id": "9217fb42-a47b-42cf-9850-461c8937a859",
   "metadata": {},
   "source": [
    "#### we have some columns with very large missing data, e.g., education (1996 missing), num_positions (17,536 missing), source (18,013 missing).\n"
   ]
  },
  {
   "cell_type": "markdown",
   "id": "3b7be0f1-9818-4f8b-8be0-be8b2265d8d2",
   "metadata": {},
   "source": [
    "Columns with very few missing values (like company, experience, industry, description):You can drop rows or fill with placeholders like \"Unknown\":\n"
   ]
  },
  {
   "cell_type": "code",
   "execution_count": 35,
   "id": "c9d3b6b7-5e76-4e34-9080-dd6a88baab2b",
   "metadata": {
    "collapsed": true,
    "jupyter": {
     "outputs_hidden": true
    }
   },
   "outputs": [
    {
     "name": "stderr",
     "output_type": "stream",
     "text": [
      "/var/folders/67/f0htb9ms0fzfnqpg6vwskkm40000gn/T/ipykernel_3925/441080095.py:1: FutureWarning: A value is trying to be set on a copy of a DataFrame or Series through chained assignment using an inplace method.\n",
      "The behavior will change in pandas 3.0. This inplace method will never work because the intermediate object on which we are setting values always behaves as a copy.\n",
      "\n",
      "For example, when doing 'df[col].method(value, inplace=True)', try using 'df.method({col: value}, inplace=True)' or df[col] = df[col].method(value) instead, to perform the operation inplace on the original object.\n",
      "\n",
      "\n",
      "  df[\"company\"].fillna(\"Unknown\", inplace= True)\n",
      "/var/folders/67/f0htb9ms0fzfnqpg6vwskkm40000gn/T/ipykernel_3925/441080095.py:2: FutureWarning: A value is trying to be set on a copy of a DataFrame or Series through chained assignment using an inplace method.\n",
      "The behavior will change in pandas 3.0. This inplace method will never work because the intermediate object on which we are setting values always behaves as a copy.\n",
      "\n",
      "For example, when doing 'df[col].method(value, inplace=True)', try using 'df.method({col: value}, inplace=True)' or df[col] = df[col].method(value) instead, to perform the operation inplace on the original object.\n",
      "\n",
      "\n",
      "  df[\"experience\"].fillna(\"Not specified\", inplace= True)\n",
      "/var/folders/67/f0htb9ms0fzfnqpg6vwskkm40000gn/T/ipykernel_3925/441080095.py:3: FutureWarning: A value is trying to be set on a copy of a DataFrame or Series through chained assignment using an inplace method.\n",
      "The behavior will change in pandas 3.0. This inplace method will never work because the intermediate object on which we are setting values always behaves as a copy.\n",
      "\n",
      "For example, when doing 'df[col].method(value, inplace=True)', try using 'df.method({col: value}, inplace=True)' or df[col] = df[col].method(value) instead, to perform the operation inplace on the original object.\n",
      "\n",
      "\n",
      "  df[\"industry\"].fillna(\"Other\", inplace= True)\n",
      "/var/folders/67/f0htb9ms0fzfnqpg6vwskkm40000gn/T/ipykernel_3925/441080095.py:4: FutureWarning: A value is trying to be set on a copy of a DataFrame or Series through chained assignment using an inplace method.\n",
      "The behavior will change in pandas 3.0. This inplace method will never work because the intermediate object on which we are setting values always behaves as a copy.\n",
      "\n",
      "For example, when doing 'df[col].method(value, inplace=True)', try using 'df.method({col: value}, inplace=True)' or df[col] = df[col].method(value) instead, to perform the operation inplace on the original object.\n",
      "\n",
      "\n",
      "  df[\"description\"].fillna(\"No description\", inplace= True)\n"
     ]
    }
   ],
   "source": [
    "df[\"company\"].fillna(\"Unknown\", inplace= True)\n",
    "df[\"experience\"].fillna(\"Not specified\", inplace= True)\n",
    "df[\"industry\"].fillna(\"Other\", inplace= True)\n",
    "df[\"description\"].fillna(\"No description\", inplace= True)"
   ]
  },
  {
   "cell_type": "code",
   "execution_count": null,
   "id": "aa4a7e67-51e0-472b-8ba6-faf31cd34d13",
   "metadata": {},
   "outputs": [],
   "source": []
  },
  {
   "cell_type": "code",
   "execution_count": 32,
   "id": "33a114c4-56aa-4b58-a997-6af74377cade",
   "metadata": {
    "scrolled": true
   },
   "outputs": [
    {
     "name": "stdout",
     "output_type": "stream",
     "text": [
      "job_title\n",
      "Business Development Executive    93\n",
      "Business Development Manager      92\n",
      "Software Engineer                 81\n",
      "Project Manager                   67\n",
      "Android Developer                 65\n",
      "Web Designer                      61\n",
      "Content Writer                    59\n",
      "Senior Software Engineer          58\n",
      "Sales Executive                   56\n",
      "PHP Developer                     54\n",
      "Name: count, dtype: int64\n"
     ]
    }
   ],
   "source": [
    "job_title_counts = df[\"job_title\"].value_counts() \n",
    "print(job_title_counts.head(10))"
   ]
  },
  {
   "cell_type": "code",
   "execution_count": 33,
   "id": "67514dc7-fc53-4151-80c9-9b73c5c86987",
   "metadata": {
    "collapsed": true,
    "jupyter": {
     "outputs_hidden": true
    },
    "scrolled": true
   },
   "outputs": [
    {
     "data": {
      "image/png": "[encoded data removed]",
      "text/plain": [
       "<Figure size 640x480 with 1 Axes>"
      ]
     },
     "metadata": {},
     "output_type": "display_data"
    }
   ],
   "source": [
    "df['salary'] = pd.to_numeric(df['salary'], errors= 'coerce')\n",
    "df['salary'].hist(bins= 50)\n",
    "plt.xlabel(\"salary\")\n",
    "plt.ylabel(\"Count\")\n",
    "plt.title(\"Salary Distribution\")\n",
    "plt.show()"
   ]
  },
  {
   "cell_type": "code",
   "execution_count": 34,
   "id": "f5bac714-d130-4d9a-874b-67d2069d027b",
   "metadata": {
    "collapsed": true,
    "jupyter": {
     "outputs_hidden": true
    }
   },
   "outputs": [
    {
     "name": "stdout",
     "output_type": "stream",
     "text": [
      "location\n",
      "Bengaluru/Bangalore                                         3775\n",
      "Mumbai                                                      2348\n",
      "Bengaluru                                                   1453\n",
      "Hyderabad / Secunderabad                                    1246\n",
      "Chennai                                                     1204\n",
      "Hyderabad                                                    936\n",
      "Noida                                                        775\n",
      "Delhi                                                        763\n",
      "Gurgaon                                                      743\n",
      "Mumbai , Mumbai                                              514\n",
      "Delhi/NCR(National Capital Region)                           383\n",
      "Bengaluru/Bangalore , Bengaluru / Bangalore                  360\n",
      "Delhi , Delhi                                                324\n",
      "Noida , Noida/Greater Noida                                  313\n",
      "Gurgaon , Gurgaon                                            148\n",
      "Bengaluru/Bangalore , Chennai , Hyderabad / Secunderabad     118\n",
      "Ghaziabad                                                    102\n",
      "Bengaluru/Bangalore , Hyderabad / Secunderabad               101\n",
      "Bengaluru, Hyderabad                                          87\n",
      "Delhi/NCR(National Capital Region) , Gurgaon                  83\n",
      "Name: count, dtype: int64\n"
     ]
    }
   ],
   "source": [
    "location_counts = df[\"location\"].value_counts()\n",
    "print(location_counts.head(20))"
   ]
  },
  {
   "cell_type": "code",
   "execution_count": null,
   "id": "010ff526-774d-464f-85db-3b6c2ace5815",
   "metadata": {},
   "outputs": [],
   "source": []
  },
  {
   "cell_type": "code",
   "execution_count": null,
   "id": "f3b98cc5-7b65-449f-a3e6-84821f554f4c",
   "metadata": {},
   "outputs": [],
   "source": []
  },
  {
   "cell_type": "code",
   "execution_count": null,
   "id": "021d6f3c-635f-4aa1-8a0a-f0eda2a051ee",
   "metadata": {},
   "outputs": [],
   "source": []
  }
 ],
 "metadata": {
  "kernelspec": {
   "display_name": "Python 3 (ipykernel)",
   "language": "python",
   "name": "python3"
  },
  "language_info": {
   "codemirror_mode": {
    "name": "ipython",
    "version": 3
   },
   "file_extension": ".py",
   "mimetype": "text/x-python",
   "name": "python",
   "nbconvert_exporter": "python",
   "pygments_lexer": "ipython3",
   "version": "3.12.11"
  }
 },
 "nbformat": 4,
 "nbformat_minor": 5
}
